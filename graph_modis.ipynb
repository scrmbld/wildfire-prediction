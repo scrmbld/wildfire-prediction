{
    "cells": [
        {
            "cell_type": "markdown",
            "id": "2fe5fb6f",
            "metadata": {},
            "source": "## Taking a brief look at the fire dataset"
        },
        {
            "cell_type": "code",
            "execution_count": 1,
            "id": "8987fe42",
            "metadata": {
                "trusted": true
            },
            "outputs": [],
            "source": "import pandas as pd\nimport folium\nfrom folium.plugins import HeatMapWithTime\nfrom datetime import datetime, timedelta\nimport os\nimport numpy as np"
        },
        {
            "cell_type": "code",
            "execution_count": 6,
            "id": "db3ff851",
            "metadata": {
                "trusted": true
            },
            "outputs": [
                {
                    "data": {
                        "text/html": "<div>\n<style scoped>\n    .dataframe tbody tr th:only-of-type {\n        vertical-align: middle;\n    }\n\n    .dataframe tbody tr th {\n        vertical-align: top;\n    }\n\n    .dataframe thead th {\n        text-align: right;\n    }\n</style>\n<table border=\"1\" class=\"dataframe\">\n  <thead>\n    <tr style=\"text-align: right;\">\n      <th></th>\n      <th>latitude</th>\n      <th>longitude</th>\n      <th>brightness</th>\n      <th>scan</th>\n      <th>track</th>\n      <th>acq_date</th>\n      <th>acq_time</th>\n      <th>satellite</th>\n      <th>instrument</th>\n      <th>confidence</th>\n      <th>version</th>\n      <th>bright_t31</th>\n      <th>frp</th>\n      <th>daynight</th>\n      <th>type</th>\n    </tr>\n  </thead>\n  <tbody>\n    <tr>\n      <th>0</th>\n      <td>-11.8070</td>\n      <td>142.0583</td>\n      <td>313.0</td>\n      <td>1.0</td>\n      <td>1.0</td>\n      <td>2019-08-01</td>\n      <td>56</td>\n      <td>Terra</td>\n      <td>MODIS</td>\n      <td>48</td>\n      <td>6.3</td>\n      <td>297.3</td>\n      <td>6.6</td>\n      <td>D</td>\n      <td>0</td>\n    </tr>\n    <tr>\n      <th>285</th>\n      <td>-14.2000</td>\n      <td>130.6596</td>\n      <td>324.2</td>\n      <td>2.0</td>\n      <td>1.4</td>\n      <td>2019-08-01</td>\n      <td>524</td>\n      <td>Aqua</td>\n      <td>MODIS</td>\n      <td>42</td>\n      <td>6.3</td>\n      <td>301.8</td>\n      <td>28.8</td>\n      <td>D</td>\n      <td>0</td>\n    </tr>\n    <tr>\n      <th>284</th>\n      <td>-14.3457</td>\n      <td>129.8308</td>\n      <td>321.8</td>\n      <td>1.7</td>\n      <td>1.3</td>\n      <td>2019-08-01</td>\n      <td>524</td>\n      <td>Aqua</td>\n      <td>MODIS</td>\n      <td>57</td>\n      <td>6.3</td>\n      <td>301.9</td>\n      <td>18.7</td>\n      <td>D</td>\n      <td>0</td>\n    </tr>\n    <tr>\n      <th>283</th>\n      <td>-14.2476</td>\n      <td>130.6929</td>\n      <td>321.2</td>\n      <td>2.0</td>\n      <td>1.4</td>\n      <td>2019-08-01</td>\n      <td>524</td>\n      <td>Aqua</td>\n      <td>MODIS</td>\n      <td>61</td>\n      <td>6.3</td>\n      <td>303.7</td>\n      <td>21.0</td>\n      <td>D</td>\n      <td>0</td>\n    </tr>\n    <tr>\n      <th>282</th>\n      <td>-14.2568</td>\n      <td>130.7132</td>\n      <td>325.2</td>\n      <td>2.0</td>\n      <td>1.4</td>\n      <td>2019-08-01</td>\n      <td>524</td>\n      <td>Aqua</td>\n      <td>MODIS</td>\n      <td>54</td>\n      <td>6.3</td>\n      <td>304.4</td>\n      <td>30.7</td>\n      <td>D</td>\n      <td>0</td>\n    </tr>\n  </tbody>\n</table>\n</div>",
                        "text/plain": "     latitude  longitude  brightness  scan  track    acq_date  acq_time  \\\n0    -11.8070   142.0583       313.0   1.0    1.0  2019-08-01        56   \n285  -14.2000   130.6596       324.2   2.0    1.4  2019-08-01       524   \n284  -14.3457   129.8308       321.8   1.7    1.3  2019-08-01       524   \n283  -14.2476   130.6929       321.2   2.0    1.4  2019-08-01       524   \n282  -14.2568   130.7132       325.2   2.0    1.4  2019-08-01       524   \n\n    satellite instrument  confidence  version  bright_t31   frp daynight  type  \n0       Terra      MODIS          48      6.3       297.3   6.6        D     0  \n285      Aqua      MODIS          42      6.3       301.8  28.8        D     0  \n284      Aqua      MODIS          57      6.3       301.9  18.7        D     0  \n283      Aqua      MODIS          61      6.3       303.7  21.0        D     0  \n282      Aqua      MODIS          54      6.3       304.4  30.7        D     0  "
                    },
                    "execution_count": 6,
                    "metadata": {},
                    "output_type": "execute_result"
                }
            ],
            "source": "df = pd.read_csv(\"dataset/raw_data/fire_archive_M6_96619.csv\")\ndf.sort_values(\"acq_date\").head()"
        },
        {
            "cell_type": "code",
            "execution_count": 7,
            "id": "494a2473",
            "metadata": {
                "trusted": true
            },
            "outputs": [
                {
                    "data": {
                        "text/html": "<div>\n<style scoped>\n    .dataframe tbody tr th:only-of-type {\n        vertical-align: middle;\n    }\n\n    .dataframe tbody tr th {\n        vertical-align: top;\n    }\n\n    .dataframe thead th {\n        text-align: right;\n    }\n</style>\n<table border=\"1\" class=\"dataframe\">\n  <thead>\n    <tr style=\"text-align: right;\">\n      <th></th>\n      <th>latitude</th>\n      <th>longitude</th>\n      <th>brightness</th>\n      <th>scan</th>\n      <th>track</th>\n      <th>acq_date</th>\n      <th>acq_time</th>\n      <th>satellite</th>\n      <th>instrument</th>\n      <th>confidence</th>\n      <th>version</th>\n      <th>bright_t31</th>\n      <th>frp</th>\n      <th>daynight</th>\n      <th>type</th>\n    </tr>\n  </thead>\n  <tbody>\n    <tr>\n      <th>35566</th>\n      <td>-27.4541</td>\n      <td>149.4632</td>\n      <td>329.1</td>\n      <td>1.2</td>\n      <td>1.1</td>\n      <td>2019-09-30</td>\n      <td>407</td>\n      <td>Aqua</td>\n      <td>MODIS</td>\n      <td>70</td>\n      <td>6.3</td>\n      <td>315.2</td>\n      <td>14.2</td>\n      <td>D</td>\n      <td>0</td>\n    </tr>\n    <tr>\n      <th>35567</th>\n      <td>-27.4063</td>\n      <td>151.6380</td>\n      <td>334.3</td>\n      <td>1.6</td>\n      <td>1.3</td>\n      <td>2019-09-30</td>\n      <td>407</td>\n      <td>Aqua</td>\n      <td>MODIS</td>\n      <td>72</td>\n      <td>6.3</td>\n      <td>314.2</td>\n      <td>29.9</td>\n      <td>D</td>\n      <td>0</td>\n    </tr>\n    <tr>\n      <th>35568</th>\n      <td>-27.4175</td>\n      <td>151.6407</td>\n      <td>331.5</td>\n      <td>1.6</td>\n      <td>1.3</td>\n      <td>2019-09-30</td>\n      <td>407</td>\n      <td>Aqua</td>\n      <td>MODIS</td>\n      <td>64</td>\n      <td>6.3</td>\n      <td>317.6</td>\n      <td>22.2</td>\n      <td>D</td>\n      <td>0</td>\n    </tr>\n    <tr>\n      <th>35570</th>\n      <td>-22.4856</td>\n      <td>150.7192</td>\n      <td>327.5</td>\n      <td>1.8</td>\n      <td>1.3</td>\n      <td>2019-09-30</td>\n      <td>408</td>\n      <td>Aqua</td>\n      <td>MODIS</td>\n      <td>0</td>\n      <td>6.3</td>\n      <td>299.7</td>\n      <td>40.2</td>\n      <td>D</td>\n      <td>0</td>\n    </tr>\n    <tr>\n      <th>36010</th>\n      <td>-30.8641</td>\n      <td>121.4995</td>\n      <td>309.1</td>\n      <td>1.8</td>\n      <td>1.3</td>\n      <td>2019-09-30</td>\n      <td>1645</td>\n      <td>Aqua</td>\n      <td>MODIS</td>\n      <td>77</td>\n      <td>6.3</td>\n      <td>290.9</td>\n      <td>23.0</td>\n      <td>N</td>\n      <td>2</td>\n    </tr>\n  </tbody>\n</table>\n</div>",
                        "text/plain": "       latitude  longitude  brightness  scan  track    acq_date  acq_time  \\\n35566  -27.4541   149.4632       329.1   1.2    1.1  2019-09-30       407   \n35567  -27.4063   151.6380       334.3   1.6    1.3  2019-09-30       407   \n35568  -27.4175   151.6407       331.5   1.6    1.3  2019-09-30       407   \n35570  -22.4856   150.7192       327.5   1.8    1.3  2019-09-30       408   \n36010  -30.8641   121.4995       309.1   1.8    1.3  2019-09-30      1645   \n\n      satellite instrument  confidence  version  bright_t31   frp daynight  \\\n35566      Aqua      MODIS          70      6.3       315.2  14.2        D   \n35567      Aqua      MODIS          72      6.3       314.2  29.9        D   \n35568      Aqua      MODIS          64      6.3       317.6  22.2        D   \n35570      Aqua      MODIS           0      6.3       299.7  40.2        D   \n36010      Aqua      MODIS          77      6.3       290.9  23.0        N   \n\n       type  \n35566     0  \n35567     0  \n35568     0  \n35570     0  \n36010     2  "
                    },
                    "execution_count": 7,
                    "metadata": {},
                    "output_type": "execute_result"
                }
            ],
            "source": "df.sort_values(\"acq_date\").tail()"
        },
        {
            "cell_type": "code",
            "execution_count": 8,
            "id": "70fa74b5",
            "metadata": {
                "trusted": true
            },
            "outputs": [
                {
                    "data": {
                        "text/plain": "(36011, 15)"
                    },
                    "execution_count": 8,
                    "metadata": {},
                    "output_type": "execute_result"
                }
            ],
            "source": "df.shape"
        },
        {
            "cell_type": "markdown",
            "id": "8d5f4621",
            "metadata": {},
            "source": "## Clean the data frame\nWe only need lat, long, date, and bright-ti4 for our visualization"
        },
        {
            "cell_type": "code",
            "execution_count": null,
            "id": "72a27efc",
            "metadata": {
                "trusted": true
            },
            "outputs": [],
            "source": "df.drop(['scan', 'track', 'acq_time', 'satellite', 'instrument', 'version', 'brightness', 'bright_t31', 'frp', 'type'], axis=1, inplace=True)\n\nmax_conf = df['confidence'].max()\nmin_conf = df['confidence'].min()\nprint(max_conf)\nprint(min_conf)"
        },
        {
            "cell_type": "code",
            "execution_count": null,
            "id": "ec39df39",
            "metadata": {
                "trusted": true
            },
            "outputs": [],
            "source": "df.head()"
        },
        {
            "cell_type": "markdown",
            "id": "f15ededb",
            "metadata": {},
            "source": "## Split the data into days & scale weights for heatmap"
        },
        {
            "cell_type": "code",
            "execution_count": null,
            "id": "ec7d2c74",
            "metadata": {
                "trusted": true
            },
            "outputs": [],
            "source": "days = []\nfor month in range(8, 10):\n    for day in range(1, 32):\n        daystr = f'2019-0{month}-{day}'\n        if day < 10:\n            daystr = f'2019-0{month}-0{day}'\n\n        d = df[df[\"acq_date\"] == daystr][[\"latitude\", \"longitude\", \"confidence\"]]\n        days.append(d)\n\ndays.pop()"
        },
        {
            "cell_type": "code",
            "execution_count": null,
            "id": "a441fd97",
            "metadata": {
                "trusted": true
            },
            "outputs": [],
            "source": "print(days[-1])"
        },
        {
            "cell_type": "markdown",
            "id": "58528222",
            "metadata": {},
            "source": "Prepare the data for the heatmap"
        },
        {
            "cell_type": "code",
            "execution_count": null,
            "id": "02881733",
            "metadata": {
                "trusted": true
            },
            "outputs": [],
            "source": "def scale(x, min, max):\n    return (x - min) / (max - min)\n\ndata = []\nfor d in days:\n    scaled = d.copy()\n    scaled['confidence'] = scaled['confidence'].apply(scale, args=(min_conf, max_conf))\n    data.append(scaled.values.tolist())\n\ndata[0]"
        },
        {
            "cell_type": "markdown",
            "id": "a787efd0",
            "metadata": {},
            "source": "Create the time index so that folium knows what date to put on each step"
        },
        {
            "cell_type": "code",
            "execution_count": null,
            "id": "56575171",
            "metadata": {
                "trusted": true
            },
            "outputs": [],
            "source": "start_date = datetime(year=2019, month=8, day=1)\ntime_index = [(start_date + k * timedelta(1)).strftime(\"%Y-%m-%d\") for k in range(len(data))]"
        },
        {
            "cell_type": "markdown",
            "id": "d30937d7",
            "metadata": {},
            "source": "Make a heatmap (lol) of brightness over coordinates"
        },
        {
            "cell_type": "code",
            "execution_count": null,
            "id": "8ccfa30c",
            "metadata": {
                "trusted": true
            },
            "outputs": [],
            "source": "m = folium.Map(\n    [-24.0, 140.0],\n    zoom_start=4,\n)\n\nhm = HeatMapWithTime(data, index=time_index, auto_play=True)\nhm.add_to(m)\n\nos.makedirs('graphs/', exist_ok=True)\nm.save('graphs/fire_archive_M6_96619.html')"
        }
    ],
    "metadata": {
        "kernelspec": {
            "display_name": "Python 3 (ipykernel)",
            "language": "python",
            "name": "python3"
        },
        "language_info": {
            "codemirror_mode": {
                "name": "ipython",
                "version": 3
            },
            "file_extension": ".py",
            "mimetype": "text/x-python",
            "name": "python",
            "nbconvert_exporter": "python",
            "pygments_lexer": "ipython3",
            "version": "3.10.12"
        }
    },
    "nbformat": 4,
    "nbformat_minor": 5
}