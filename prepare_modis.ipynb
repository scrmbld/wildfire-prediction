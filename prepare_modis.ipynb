{
    "cells": [
        {
            "cell_type": "markdown",
            "id": "387ab0e8",
            "metadata": {},
            "source": "# Prepare MODIS data for ML\n1. Load in all the raw data\n2. Drop all of the columns we don't want\n3. Turn dates/times into unix timestamps\n3. Split into training, validation, and testing"
        },
        {
            "cell_type": "code",
            "execution_count": 1,
            "id": "fb829e60",
            "metadata": {
                "trusted": true
            },
            "outputs": [],
            "source": "import os\nimport glob\n\nimport pandas as pd\nfrom sklearn.model_selection import train_test_split\n\nfrom datetime import datetime"
        },
        {
            "cell_type": "markdown",
            "id": "059527bd",
            "metadata": {},
            "source": "Load all of the files"
        },
        {
            "cell_type": "code",
            "execution_count": 2,
            "id": "28c77019",
            "metadata": {
                "trusted": true
            },
            "outputs": [],
            "source": "# get files\npath = 'dataset/raw_data/'\nall_files = glob.glob(os.path.join(path, '*M6*.csv'))"
        },
        {
            "cell_type": "code",
            "execution_count": 3,
            "id": "7935500f",
            "metadata": {
                "trusted": true
            },
            "outputs": [
                {
                    "name": "stdout",
                    "output_type": "stream",
                    "text": "fire_archive_M6_96619\nfire_nrt_M6_96619\n"
                }
            ],
            "source": "# load files\ndataframes = {}\nfor file in all_files:\n    file_str = file.split('/')[-1].split('.')[0]\n    print(file_str)\n    dataframes[file_str] = pd.read_csv(file, dtype=str)"
        },
        {
            "cell_type": "markdown",
            "id": "4d95e5d1",
            "metadata": {},
            "source": "## Take a look at the dataset\nWe will keep the latitude, longitude, acq_date, acq_time, instrument, confidence, bright_t31, brightness, frp, and daynight"
        },
        {
            "cell_type": "code",
            "execution_count": 4,
            "id": "fbe4751f",
            "metadata": {
                "trusted": true
            },
            "outputs": [
                {
                    "name": "stdout",
                    "output_type": "stream",
                    "text": "fire_archive_M6_96619\n"
                },
                {
                    "data": {
                        "text/html": "<div>\n<style scoped>\n    .dataframe tbody tr th:only-of-type {\n        vertical-align: middle;\n    }\n\n    .dataframe tbody tr th {\n        vertical-align: top;\n    }\n\n    .dataframe thead th {\n        text-align: right;\n    }\n</style>\n<table border=\"1\" class=\"dataframe\">\n  <thead>\n    <tr style=\"text-align: right;\">\n      <th></th>\n      <th>latitude</th>\n      <th>longitude</th>\n      <th>brightness</th>\n      <th>acq_date</th>\n      <th>acq_time</th>\n      <th>confidence</th>\n      <th>bright_t31</th>\n      <th>frp</th>\n      <th>daynight</th>\n    </tr>\n  </thead>\n  <tbody>\n    <tr>\n      <th>0</th>\n      <td>-11.807</td>\n      <td>142.0583</td>\n      <td>313</td>\n      <td>2019-08-01</td>\n      <td>0056</td>\n      <td>48</td>\n      <td>297.3</td>\n      <td>6.6</td>\n      <td>D</td>\n    </tr>\n    <tr>\n      <th>1</th>\n      <td>-11.7924</td>\n      <td>142.085</td>\n      <td>319.3</td>\n      <td>2019-08-01</td>\n      <td>0056</td>\n      <td>71</td>\n      <td>297.3</td>\n      <td>11.3</td>\n      <td>D</td>\n    </tr>\n    <tr>\n      <th>2</th>\n      <td>-12.8398</td>\n      <td>132.8744</td>\n      <td>311.6</td>\n      <td>2019-08-01</td>\n      <td>0057</td>\n      <td>42</td>\n      <td>298.7</td>\n      <td>23.1</td>\n      <td>D</td>\n    </tr>\n    <tr>\n      <th>3</th>\n      <td>-14.4306</td>\n      <td>143.3035</td>\n      <td>310.1</td>\n      <td>2019-08-01</td>\n      <td>0057</td>\n      <td>33</td>\n      <td>296.1</td>\n      <td>6.5</td>\n      <td>D</td>\n    </tr>\n    <tr>\n      <th>4</th>\n      <td>-12.4953</td>\n      <td>131.4897</td>\n      <td>310.3</td>\n      <td>2019-08-01</td>\n      <td>0057</td>\n      <td>36</td>\n      <td>298.8</td>\n      <td>27.6</td>\n      <td>D</td>\n    </tr>\n    <tr>\n      <th>5</th>\n      <td>-12.6191</td>\n      <td>142.1998</td>\n      <td>314.8</td>\n      <td>2019-08-01</td>\n      <td>0057</td>\n      <td>68</td>\n      <td>297.6</td>\n      <td>9.3</td>\n      <td>D</td>\n    </tr>\n    <tr>\n      <th>6</th>\n      <td>-14.3655</td>\n      <td>143.5682</td>\n      <td>305.4</td>\n      <td>2019-08-01</td>\n      <td>0057</td>\n      <td>24</td>\n      <td>283.9</td>\n      <td>5.9</td>\n      <td>D</td>\n    </tr>\n    <tr>\n      <th>7</th>\n      <td>-14.3195</td>\n      <td>143.5198</td>\n      <td>322.9</td>\n      <td>2019-08-01</td>\n      <td>0057</td>\n      <td>79</td>\n      <td>290.9</td>\n      <td>20.4</td>\n      <td>D</td>\n    </tr>\n    <tr>\n      <th>8</th>\n      <td>-13.1654</td>\n      <td>141.9715</td>\n      <td>317.2</td>\n      <td>2019-08-01</td>\n      <td>0057</td>\n      <td>72</td>\n      <td>300</td>\n      <td>9.9</td>\n      <td>D</td>\n    </tr>\n    <tr>\n      <th>9</th>\n      <td>-11.5473</td>\n      <td>132.6796</td>\n      <td>311.5</td>\n      <td>2019-08-01</td>\n      <td>0057</td>\n      <td>40</td>\n      <td>298.7</td>\n      <td>27.3</td>\n      <td>D</td>\n    </tr>\n  </tbody>\n</table>\n</div>",
                        "text/plain": "   latitude longitude brightness    acq_date acq_time confidence bright_t31  \\\n0   -11.807  142.0583        313  2019-08-01     0056         48      297.3   \n1  -11.7924   142.085      319.3  2019-08-01     0056         71      297.3   \n2  -12.8398  132.8744      311.6  2019-08-01     0057         42      298.7   \n3  -14.4306  143.3035      310.1  2019-08-01     0057         33      296.1   \n4  -12.4953  131.4897      310.3  2019-08-01     0057         36      298.8   \n5  -12.6191  142.1998      314.8  2019-08-01     0057         68      297.6   \n6  -14.3655  143.5682      305.4  2019-08-01     0057         24      283.9   \n7  -14.3195  143.5198      322.9  2019-08-01     0057         79      290.9   \n8  -13.1654  141.9715      317.2  2019-08-01     0057         72        300   \n9  -11.5473  132.6796      311.5  2019-08-01     0057         40      298.7   \n\n    frp daynight  \n0   6.6        D  \n1  11.3        D  \n2  23.1        D  \n3   6.5        D  \n4  27.6        D  \n5   9.3        D  \n6   5.9        D  \n7  20.4        D  \n8   9.9        D  \n9  27.3        D  "
                    },
                    "metadata": {},
                    "output_type": "display_data"
                },
                {
                    "name": "stdout",
                    "output_type": "stream",
                    "text": "fire_nrt_M6_96619\n"
                },
                {
                    "data": {
                        "text/html": "<div>\n<style scoped>\n    .dataframe tbody tr th:only-of-type {\n        vertical-align: middle;\n    }\n\n    .dataframe tbody tr th {\n        vertical-align: top;\n    }\n\n    .dataframe thead th {\n        text-align: right;\n    }\n</style>\n<table border=\"1\" class=\"dataframe\">\n  <thead>\n    <tr style=\"text-align: right;\">\n      <th></th>\n      <th>latitude</th>\n      <th>longitude</th>\n      <th>brightness</th>\n      <th>acq_date</th>\n      <th>acq_time</th>\n      <th>confidence</th>\n      <th>bright_t31</th>\n      <th>frp</th>\n      <th>daynight</th>\n    </tr>\n  </thead>\n  <tbody>\n    <tr>\n      <th>0</th>\n      <td>-14.281</td>\n      <td>143.636</td>\n      <td>323.9</td>\n      <td>2019-10-01</td>\n      <td>0025</td>\n      <td>70</td>\n      <td>302.3</td>\n      <td>26.8</td>\n      <td>D</td>\n    </tr>\n    <tr>\n      <th>1</th>\n      <td>-14.284</td>\n      <td>143.532</td>\n      <td>343.5</td>\n      <td>2019-10-01</td>\n      <td>0025</td>\n      <td>90</td>\n      <td>306.3</td>\n      <td>84.3</td>\n      <td>D</td>\n    </tr>\n    <tr>\n      <th>2</th>\n      <td>-14.302</td>\n      <td>143.706</td>\n      <td>320.2</td>\n      <td>2019-10-01</td>\n      <td>0025</td>\n      <td>30</td>\n      <td>305</td>\n      <td>14.1</td>\n      <td>D</td>\n    </tr>\n    <tr>\n      <th>3</th>\n      <td>-14.283</td>\n      <td>143.652</td>\n      <td>320.4</td>\n      <td>2019-10-01</td>\n      <td>0025</td>\n      <td>57</td>\n      <td>303.3</td>\n      <td>18.4</td>\n      <td>D</td>\n    </tr>\n    <tr>\n      <th>4</th>\n      <td>-14.285</td>\n      <td>143.521</td>\n      <td>349.4</td>\n      <td>2019-10-01</td>\n      <td>0025</td>\n      <td>94</td>\n      <td>304.7</td>\n      <td>110.7</td>\n      <td>D</td>\n    </tr>\n    <tr>\n      <th>5</th>\n      <td>-14.273</td>\n      <td>143.589</td>\n      <td>328.1</td>\n      <td>2019-10-01</td>\n      <td>0025</td>\n      <td>62</td>\n      <td>304.6</td>\n      <td>32.4</td>\n      <td>D</td>\n    </tr>\n    <tr>\n      <th>6</th>\n      <td>-14.768</td>\n      <td>141.792</td>\n      <td>324.3</td>\n      <td>2019-10-01</td>\n      <td>0025</td>\n      <td>57</td>\n      <td>308.1</td>\n      <td>24</td>\n      <td>D</td>\n    </tr>\n    <tr>\n      <th>7</th>\n      <td>-14.304</td>\n      <td>143.512</td>\n      <td>338</td>\n      <td>2019-10-01</td>\n      <td>0025</td>\n      <td>86</td>\n      <td>304</td>\n      <td>66.1</td>\n      <td>D</td>\n    </tr>\n    <tr>\n      <th>8</th>\n      <td>-14.267</td>\n      <td>143.557</td>\n      <td>329.3</td>\n      <td>2019-10-01</td>\n      <td>0025</td>\n      <td>65</td>\n      <td>304.2</td>\n      <td>34.2</td>\n      <td>D</td>\n    </tr>\n    <tr>\n      <th>9</th>\n      <td>-14.307</td>\n      <td>143.528</td>\n      <td>331.1</td>\n      <td>2019-10-01</td>\n      <td>0025</td>\n      <td>70</td>\n      <td>305.2</td>\n      <td>40.8</td>\n      <td>D</td>\n    </tr>\n  </tbody>\n</table>\n</div>",
                        "text/plain": "  latitude longitude brightness    acq_date acq_time confidence bright_t31  \\\n0  -14.281   143.636      323.9  2019-10-01     0025         70      302.3   \n1  -14.284   143.532      343.5  2019-10-01     0025         90      306.3   \n2  -14.302   143.706      320.2  2019-10-01     0025         30        305   \n3  -14.283   143.652      320.4  2019-10-01     0025         57      303.3   \n4  -14.285   143.521      349.4  2019-10-01     0025         94      304.7   \n5  -14.273   143.589      328.1  2019-10-01     0025         62      304.6   \n6  -14.768   141.792      324.3  2019-10-01     0025         57      308.1   \n7  -14.304   143.512        338  2019-10-01     0025         86        304   \n8  -14.267   143.557      329.3  2019-10-01     0025         65      304.2   \n9  -14.307   143.528      331.1  2019-10-01     0025         70      305.2   \n\n     frp daynight  \n0   26.8        D  \n1   84.3        D  \n2   14.1        D  \n3   18.4        D  \n4  110.7        D  \n5   32.4        D  \n6     24        D  \n7   66.1        D  \n8   34.2        D  \n9   40.8        D  "
                    },
                    "metadata": {},
                    "output_type": "display_data"
                }
            ],
            "source": "to_keep = [\"latitude\", \"longitude\", \"acq_date\", \"acq_time\", \"confidence\", \"bright_t31\", \"brightness\", \"frp\", \"daynight\"]\n# drop all of the other columns\nfor k,v in dataframes.items():\n    cols = v.columns\n    to_drop = [c for c in cols if c not in to_keep]\n    v.drop(to_drop, inplace=True, axis=1)\n    print(k)\n    display(v.head(10))"
        },
        {
            "cell_type": "markdown",
            "id": "3cf8439f",
            "metadata": {},
            "source": "Convert dates/times into timestamps"
        },
        {
            "cell_type": "code",
            "execution_count": 5,
            "id": "bea5245b",
            "metadata": {
                "trusted": true
            },
            "outputs": [
                {
                    "data": {
                        "text/plain": "1569913200"
                    },
                    "execution_count": 5,
                    "metadata": {},
                    "output_type": "execute_result"
                }
            ],
            "source": "def time_to_secs(x):\n    hrs = int(x[:2])\n    mins = int(x[2:])\n    return hrs*3600 + mins*60\n\ndef date_to_secs(x):\n    return int(datetime.strptime(x, '%Y-%m-%d').timestamp())\n\n\ndate_to_secs('2019-10-01')"
        },
        {
            "cell_type": "code",
            "execution_count": 12,
            "id": "78a306ed",
            "metadata": {
                "trusted": true
            },
            "outputs": [
                {
                    "name": "stdout",
                    "output_type": "stream",
                    "text": "['latitude', 'longitude', 'brightness', 'acq_date', 'acq_time', 'confidence', 'bright_t31', 'frp', 'daynight']\n"
                },
                {
                    "data": {
                        "text/html": "<div>\n<style scoped>\n    .dataframe tbody tr th:only-of-type {\n        vertical-align: middle;\n    }\n\n    .dataframe tbody tr th {\n        vertical-align: top;\n    }\n\n    .dataframe thead th {\n        text-align: right;\n    }\n</style>\n<table border=\"1\" class=\"dataframe\">\n  <thead>\n    <tr style=\"text-align: right;\">\n      <th></th>\n      <th>latitude</th>\n      <th>longitude</th>\n      <th>brightness</th>\n      <th>confidence</th>\n      <th>bright_t31</th>\n      <th>frp</th>\n      <th>daynight</th>\n      <th>timestamp</th>\n    </tr>\n  </thead>\n  <tbody>\n    <tr>\n      <th>0</th>\n      <td>-11.807</td>\n      <td>142.0583</td>\n      <td>313</td>\n      <td>48</td>\n      <td>297.3</td>\n      <td>6.6</td>\n      <td>D</td>\n      <td>1564646160</td>\n    </tr>\n    <tr>\n      <th>1</th>\n      <td>-11.7924</td>\n      <td>142.085</td>\n      <td>319.3</td>\n      <td>71</td>\n      <td>297.3</td>\n      <td>11.3</td>\n      <td>D</td>\n      <td>1564646160</td>\n    </tr>\n    <tr>\n      <th>2</th>\n      <td>-12.8398</td>\n      <td>132.8744</td>\n      <td>311.6</td>\n      <td>42</td>\n      <td>298.7</td>\n      <td>23.1</td>\n      <td>D</td>\n      <td>1564646220</td>\n    </tr>\n    <tr>\n      <th>3</th>\n      <td>-14.4306</td>\n      <td>143.3035</td>\n      <td>310.1</td>\n      <td>33</td>\n      <td>296.1</td>\n      <td>6.5</td>\n      <td>D</td>\n      <td>1564646220</td>\n    </tr>\n    <tr>\n      <th>4</th>\n      <td>-12.4953</td>\n      <td>131.4897</td>\n      <td>310.3</td>\n      <td>36</td>\n      <td>298.8</td>\n      <td>27.6</td>\n      <td>D</td>\n      <td>1564646220</td>\n    </tr>\n    <tr>\n      <th>...</th>\n      <td>...</td>\n      <td>...</td>\n      <td>...</td>\n      <td>...</td>\n      <td>...</td>\n      <td>...</td>\n      <td>...</td>\n      <td>...</td>\n    </tr>\n    <tr>\n      <th>36006</th>\n      <td>-28.0656</td>\n      <td>131.6334</td>\n      <td>312.7</td>\n      <td>85</td>\n      <td>292.9</td>\n      <td>14.2</td>\n      <td>N</td>\n      <td>1569887040</td>\n    </tr>\n    <tr>\n      <th>36007</th>\n      <td>-28.2625</td>\n      <td>128.5494</td>\n      <td>304.9</td>\n      <td>27</td>\n      <td>290.9</td>\n      <td>6.4</td>\n      <td>N</td>\n      <td>1569887040</td>\n    </tr>\n    <tr>\n      <th>36008</th>\n      <td>-28.2941</td>\n      <td>128.5123</td>\n      <td>301.7</td>\n      <td>43</td>\n      <td>290.4</td>\n      <td>5.5</td>\n      <td>N</td>\n      <td>1569887040</td>\n    </tr>\n    <tr>\n      <th>36009</th>\n      <td>-28.3001</td>\n      <td>128.553</td>\n      <td>303.6</td>\n      <td>41</td>\n      <td>290.3</td>\n      <td>5.7</td>\n      <td>N</td>\n      <td>1569887040</td>\n    </tr>\n    <tr>\n      <th>36010</th>\n      <td>-30.8641</td>\n      <td>121.4995</td>\n      <td>309.1</td>\n      <td>77</td>\n      <td>290.9</td>\n      <td>23</td>\n      <td>N</td>\n      <td>1569887100</td>\n    </tr>\n  </tbody>\n</table>\n<p>36011 rows \u00d7 8 columns</p>\n</div>",
                        "text/plain": "       latitude longitude brightness confidence bright_t31   frp daynight  \\\n0       -11.807  142.0583        313         48      297.3   6.6        D   \n1      -11.7924   142.085      319.3         71      297.3  11.3        D   \n2      -12.8398  132.8744      311.6         42      298.7  23.1        D   \n3      -14.4306  143.3035      310.1         33      296.1   6.5        D   \n4      -12.4953  131.4897      310.3         36      298.8  27.6        D   \n...         ...       ...        ...        ...        ...   ...      ...   \n36006  -28.0656  131.6334      312.7         85      292.9  14.2        N   \n36007  -28.2625  128.5494      304.9         27      290.9   6.4        N   \n36008  -28.2941  128.5123      301.7         43      290.4   5.5        N   \n36009  -28.3001   128.553      303.6         41      290.3   5.7        N   \n36010  -30.8641  121.4995      309.1         77      290.9    23        N   \n\n        timestamp  \n0      1564646160  \n1      1564646160  \n2      1564646220  \n3      1564646220  \n4      1564646220  \n...           ...  \n36006  1569887040  \n36007  1569887040  \n36008  1569887040  \n36009  1569887040  \n36010  1569887100  \n\n[36011 rows x 8 columns]"
                    },
                    "metadata": {},
                    "output_type": "display_data"
                },
                {
                    "name": "stdout",
                    "output_type": "stream",
                    "text": "['latitude', 'longitude', 'brightness', 'acq_date', 'acq_time', 'confidence', 'bright_t31', 'frp', 'daynight']\n"
                },
                {
                    "data": {
                        "text/html": "<div>\n<style scoped>\n    .dataframe tbody tr th:only-of-type {\n        vertical-align: middle;\n    }\n\n    .dataframe tbody tr th {\n        vertical-align: top;\n    }\n\n    .dataframe thead th {\n        text-align: right;\n    }\n</style>\n<table border=\"1\" class=\"dataframe\">\n  <thead>\n    <tr style=\"text-align: right;\">\n      <th></th>\n      <th>latitude</th>\n      <th>longitude</th>\n      <th>brightness</th>\n      <th>confidence</th>\n      <th>bright_t31</th>\n      <th>frp</th>\n      <th>daynight</th>\n      <th>timestamp</th>\n    </tr>\n  </thead>\n  <tbody>\n    <tr>\n      <th>0</th>\n      <td>-14.281</td>\n      <td>143.636</td>\n      <td>323.9</td>\n      <td>70</td>\n      <td>302.3</td>\n      <td>26.8</td>\n      <td>D</td>\n      <td>1569914700</td>\n    </tr>\n    <tr>\n      <th>1</th>\n      <td>-14.284</td>\n      <td>143.532</td>\n      <td>343.5</td>\n      <td>90</td>\n      <td>306.3</td>\n      <td>84.3</td>\n      <td>D</td>\n      <td>1569914700</td>\n    </tr>\n    <tr>\n      <th>2</th>\n      <td>-14.302</td>\n      <td>143.706</td>\n      <td>320.2</td>\n      <td>30</td>\n      <td>305</td>\n      <td>14.1</td>\n      <td>D</td>\n      <td>1569914700</td>\n    </tr>\n    <tr>\n      <th>3</th>\n      <td>-14.283</td>\n      <td>143.652</td>\n      <td>320.4</td>\n      <td>57</td>\n      <td>303.3</td>\n      <td>18.4</td>\n      <td>D</td>\n      <td>1569914700</td>\n    </tr>\n    <tr>\n      <th>4</th>\n      <td>-14.285</td>\n      <td>143.521</td>\n      <td>349.4</td>\n      <td>94</td>\n      <td>304.7</td>\n      <td>110.7</td>\n      <td>D</td>\n      <td>1569914700</td>\n    </tr>\n    <tr>\n      <th>...</th>\n      <td>...</td>\n      <td>...</td>\n      <td>...</td>\n      <td>...</td>\n      <td>...</td>\n      <td>...</td>\n      <td>...</td>\n      <td>...</td>\n    </tr>\n    <tr>\n      <th>183588</th>\n      <td>-32.675</td>\n      <td>122.113</td>\n      <td>300.5</td>\n      <td>19</td>\n      <td>289.3</td>\n      <td>15.3</td>\n      <td>N</td>\n      <td>1578784500</td>\n    </tr>\n    <tr>\n      <th>183589</th>\n      <td>-16.708</td>\n      <td>129.646</td>\n      <td>300.5</td>\n      <td>16</td>\n      <td>280.8</td>\n      <td>2.9</td>\n      <td>N</td>\n      <td>1578789900</td>\n    </tr>\n    <tr>\n      <th>183590</th>\n      <td>-16.747</td>\n      <td>129.653</td>\n      <td>301.8</td>\n      <td>23</td>\n      <td>277.9</td>\n      <td>3.7</td>\n      <td>N</td>\n      <td>1578789900</td>\n    </tr>\n    <tr>\n      <th>183591</th>\n      <td>-32.484</td>\n      <td>121.319</td>\n      <td>306.5</td>\n      <td>68</td>\n      <td>291.9</td>\n      <td>11.6</td>\n      <td>N</td>\n      <td>1578790200</td>\n    </tr>\n    <tr>\n      <th>183592</th>\n      <td>-30.858</td>\n      <td>121.5</td>\n      <td>300.7</td>\n      <td>32</td>\n      <td>290.5</td>\n      <td>6.8</td>\n      <td>N</td>\n      <td>1578790200</td>\n    </tr>\n  </tbody>\n</table>\n<p>183593 rows \u00d7 8 columns</p>\n</div>",
                        "text/plain": "       latitude longitude brightness confidence bright_t31    frp daynight  \\\n0       -14.281   143.636      323.9         70      302.3   26.8        D   \n1       -14.284   143.532      343.5         90      306.3   84.3        D   \n2       -14.302   143.706      320.2         30        305   14.1        D   \n3       -14.283   143.652      320.4         57      303.3   18.4        D   \n4       -14.285   143.521      349.4         94      304.7  110.7        D   \n...         ...       ...        ...        ...        ...    ...      ...   \n183588  -32.675   122.113      300.5         19      289.3   15.3        N   \n183589  -16.708   129.646      300.5         16      280.8    2.9        N   \n183590  -16.747   129.653      301.8         23      277.9    3.7        N   \n183591  -32.484   121.319      306.5         68      291.9   11.6        N   \n183592  -30.858     121.5      300.7         32      290.5    6.8        N   \n\n         timestamp  \n0       1569914700  \n1       1569914700  \n2       1569914700  \n3       1569914700  \n4       1569914700  \n...            ...  \n183588  1578784500  \n183589  1578789900  \n183590  1578789900  \n183591  1578790200  \n183592  1578790200  \n\n[183593 rows x 8 columns]"
                    },
                    "metadata": {},
                    "output_type": "display_data"
                }
            ],
            "source": "out_frames = {}\nfor k,v in dataframes.items():\n    print(list(v.columns))\n    secs = v['acq_time'].apply(time_to_secs)\n    bases = v['acq_date'].apply(date_to_secs)\n    ts = pd.Series(data=secs+bases, name='timestamp')\n    timestamped = pd.concat([v, ts], axis=1)\n    timestamped.drop(['acq_date', 'acq_time'], inplace=True, axis=1)\n    out_frames[k] = timestamped\n    display(timestamped)"
        },
        {
            "cell_type": "code",
            "execution_count": 13,
            "id": "1ef6d06a",
            "metadata": {
                "trusted": true
            },
            "outputs": [
                {
                    "name": "stdout",
                    "output_type": "stream",
                    "text": "dataset/modis/fire_archive_M6_96619.csv\ndataset/modis/fire_nrt_M6_96619.csv\n"
                }
            ],
            "source": "out_dir = 'dataset/modis'\nos.makedirs(out_dir, exist_ok=True)\nfor k,v in out_frames.items():\n    path = os.path.join(out_dir, k+'.csv')\n    print(path)\n    v.to_csv(path, index=False)"
        }
    ],
    "metadata": {
        "kernelspec": {
            "display_name": "Python 3 (ipykernel)",
            "language": "python",
            "name": "python3"
        },
        "language_info": {
            "codemirror_mode": {
                "name": "ipython",
                "version": 3
            },
            "file_extension": ".py",
            "mimetype": "text/x-python",
            "name": "python",
            "nbconvert_exporter": "python",
            "pygments_lexer": "ipython3",
            "version": "3.10.12"
        }
    },
    "nbformat": 4,
    "nbformat_minor": 5
}