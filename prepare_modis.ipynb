{
    "cells": [
        {
            "cell_type": "markdown",
            "id": "aab89017",
            "metadata": {},
            "source": "# Prepare MODIS data for ML\n1. Load in all the raw data\n2. Drop all of the columns we don't want\n3. Turn dates/times into unix timestamps\n3. Split into training, validation, and testing"
        },
        {
            "cell_type": "code",
            "execution_count": null,
            "id": "8cdbf853",
            "metadata": {
                "trusted": true
            },
            "outputs": [],
            "source": "import os\nimport glob\n\nimport pandas as pd\n\nfrom datetime import datetime"
        },
        {
            "cell_type": "markdown",
            "id": "596e4c1e",
            "metadata": {},
            "source": "## Load all of the files"
        },
        {
            "cell_type": "code",
            "execution_count": null,
            "id": "d23f338d",
            "metadata": {
                "trusted": true
            },
            "outputs": [],
            "source": "# get files\npath = 'dataset/raw_data/'\nall_files = glob.glob(os.path.join(path, '*M6*.csv'))"
        },
        {
            "cell_type": "code",
            "execution_count": null,
            "id": "5f359692",
            "metadata": {
                "trusted": true
            },
            "outputs": [],
            "source": "# load files\ndataframes = {}\nfor file in all_files:\n    file_str = file.split('/')[-1].split('.')[0]\n    print(file_str)\n    dataframes[file_str] = pd.read_csv(file, dtype=str)"
        },
        {
            "cell_type": "markdown",
            "id": "9327be8a",
            "metadata": {},
            "source": "## Take a look at the dataset\nWe will keep the latitude, longitude, acq_date, acq_time, instrument, confidence, bright_t31, brightness, frp, and daynight, because these are the only ones that contain interesting information. Feature selection will be a problem for future me."
        },
        {
            "cell_type": "code",
            "execution_count": null,
            "id": "1e5f70c3",
            "metadata": {
                "trusted": true
            },
            "outputs": [],
            "source": "to_keep = [\"latitude\", \"longitude\", \"acq_date\", \"acq_time\", \"confidence\", \"bright_t31\", \"brightness\", \"frp\", \"daynight\"]\n# drop all of the other columns\nfor k,v in dataframes.items():\n    cols = v.columns\n    to_drop = [c for c in cols if c not in to_keep]\n    v.drop(to_drop, inplace=True, axis=1)\n    print(k)\n    display(v.head(10))"
        },
        {
            "cell_type": "markdown",
            "id": "3de9b2d3",
            "metadata": {},
            "source": "## Convert dates/times into timestamps"
        },
        {
            "cell_type": "code",
            "execution_count": null,
            "id": "244dca38",
            "metadata": {
                "trusted": true
            },
            "outputs": [],
            "source": "# this converts acq_time to \"timestamps\" (where 12:00am that day is t=0)\ndef time_to_secs(x):\n    hrs = int(x[:2])\n    mins = int(x[2:])\n    return hrs*3600 + mins*60\n\n# this converts acq_date to timestamps\ndef date_to_secs(x):\n    return int(datetime.strptime(x, '%Y-%m-%d').timestamp())\n\n\ndate_to_secs('2019-10-01')"
        },
        {
            "cell_type": "markdown",
            "id": "a312a9de",
            "metadata": {},
            "source": "## Drop any values outside of our geographical range\nThis step is done because we are preparing for the reduced geographical range model. If we were preparing data for the baseline model, we would skip this step."
        },
        {
            "cell_type": "code",
            "execution_count": null,
            "id": "01832d71",
            "metadata": {
                "trusted": true
            },
            "outputs": [],
            "source": "lon_min = 128.37519675220057\nlon_max = 138.06885989500768\nlat_min = -16.89612224844862\nlat_max = -10.803096222169515\n\nfor k,v in dataframes.items():\n    v = v[v['latitude'].astype(float) <= lat_max]\n    v = v[v['latitude'].astype(float) >= lat_min]\n    v = v[v['longitude'].astype(float) <= lon_max]\n    v = v[v['longitude'].astype(float) >= lon_min]\n\n    dataframes[k] = v"
        },
        {
            "cell_type": "markdown",
            "id": "13018a56",
            "metadata": {},
            "source": "## Compute timestamps from acq_data and acq_time"
        },
        {
            "cell_type": "code",
            "execution_count": null,
            "id": "4fed3765",
            "metadata": {
                "trusted": true
            },
            "outputs": [],
            "source": "out_frames = {}\nfor k,v in dataframes.items():\n    print(list(v.columns))\n\n    # get the timestamp offset for the given time of day\n    secs = v['acq_time'].apply(time_to_secs)\n    # get the baseline timestamp for the given date\n    bases = v['acq_date'].apply(date_to_secs)\n    # add the bases and offsets together\n    ts = pd.Series(data=secs+bases, name='timestamp')\n\n    # concatenate a new timestamp column onto our dataframe\n    timestamped = pd.concat([v, ts], axis=1)\n    # drop the old date and time columns\n    timestamped.drop(['acq_date', 'acq_time'], inplace=True, axis=1)\n\n    out_frames[k] = timestamped\n    display(timestamped.head())"
        },
        {
            "cell_type": "markdown",
            "id": "2c4301e6",
            "metadata": {},
            "source": "## Write the data"
        },
        {
            "cell_type": "code",
            "execution_count": null,
            "id": "ad708169",
            "metadata": {
                "trusted": true
            },
            "outputs": [],
            "source": "out_dir = 'dataset/modis_reduced'\nos.makedirs(out_dir, exist_ok=True)\n\nfor k,v in out_frames.items():\n    path = os.path.join(out_dir, k+'.csv')\n    print(path)\n    v.to_csv(path, index=False)"
        }
    ],
    "metadata": {
        "kernelspec": {
            "display_name": "Python 3 (ipykernel)",
            "language": "python",
            "name": "python3"
        },
        "language_info": {
            "codemirror_mode": {
                "name": "ipython",
                "version": 3
            },
            "file_extension": ".py",
            "mimetype": "text/x-python",
            "name": "python",
            "nbconvert_exporter": "python",
            "pygments_lexer": "ipython3",
            "version": "3.10.12"
        }
    },
    "nbformat": 4,
    "nbformat_minor": 5
}