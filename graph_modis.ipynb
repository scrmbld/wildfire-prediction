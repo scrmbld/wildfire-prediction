{
    "cells": [
        {
            "cell_type": "markdown",
            "id": "29d21cbd",
            "metadata": {},
            "source": "# Taking a brief look at the fire dataset"
        },
        {
            "cell_type": "code",
            "execution_count": null,
            "id": "e0bab884",
            "metadata": {
                "trusted": true
            },
            "outputs": [],
            "source": "import pandas as pd\nimport folium\nfrom folium.plugins import HeatMapWithTime\nfrom datetime import datetime, timedelta\nimport os\nimport numpy as np"
        },
        {
            "cell_type": "markdown",
            "id": "f7f60852",
            "metadata": {},
            "source": "## Read the archival MODIS data"
        },
        {
            "cell_type": "code",
            "execution_count": null,
            "id": "b0c5a272",
            "metadata": {
                "trusted": true
            },
            "outputs": [],
            "source": "df = pd.read_csv(\"dataset/raw_data/fire_archive_M6_96619.csv\")\ndf.sort_values(\"acq_date\").head()"
        },
        {
            "cell_type": "code",
            "execution_count": null,
            "id": "b2847e14",
            "metadata": {
                "trusted": true
            },
            "outputs": [],
            "source": "df.sort_values(\"acq_date\").tail()"
        },
        {
            "cell_type": "code",
            "execution_count": null,
            "id": "6ec7c07c",
            "metadata": {
                "trusted": true
            },
            "outputs": [],
            "source": "df.shape"
        },
        {
            "cell_type": "markdown",
            "id": "a00f858a",
            "metadata": {},
            "source": "## Drop unused columns\nWe only need lat, long, date, and confidence for our visualization"
        },
        {
            "cell_type": "code",
            "execution_count": null,
            "id": "9206b7eb",
            "metadata": {
                "trusted": true
            },
            "outputs": [],
            "source": "df.drop(['scan', 'track', 'acq_time', 'satellite', 'instrument', 'version', 'brightness', 'bright_t31', 'frp', 'type'], axis=1, inplace=True)\n\n# get min and max confidence values\nmax_conf = df['confidence'].max()\nmin_conf = df['confidence'].min()\nprint(max_conf)\nprint(min_conf)"
        },
        {
            "cell_type": "code",
            "execution_count": null,
            "id": "4698ffda",
            "metadata": {
                "trusted": true
            },
            "outputs": [],
            "source": "df.head()"
        },
        {
            "cell_type": "markdown",
            "id": "87ff1af7",
            "metadata": {},
            "source": "## Split the data into days & scale weights for heatmap"
        },
        {
            "cell_type": "code",
            "execution_count": null,
            "id": "208de5ba",
            "metadata": {
                "trusted": true
            },
            "outputs": [],
            "source": "days = []\nfor month in range(8, 10):\n    for day in range(1, 32):\n        # create a date string in the same format that the dataset uses\n        daystr = f'2019-0{month}-{day}'\n        if day < 10:\n            # path day with zeros if necessary\n            daystr = f'2019-0{month}-0{day}'\n\n        d = df[df[\"acq_date\"] == daystr][[\"latitude\", \"longitude\", \"confidence\"]]\n        days.append(d)\n\n# the last day in the list is empty because sepetember is only 30 days long\ndays.pop()"
        },
        {
            "cell_type": "code",
            "execution_count": null,
            "id": "2c13159b",
            "metadata": {
                "trusted": true
            },
            "outputs": [],
            "source": "# This should be september 30th, and should not be empty\nprint(days[-1])"
        },
        {
            "cell_type": "markdown",
            "id": "3fd2e00f",
            "metadata": {},
            "source": "## Prepare the data for the heatmap\nWe need to scale the confidence values to [0, 1] because the weights for a folium heatmap must be within this range"
        },
        {
            "cell_type": "code",
            "execution_count": null,
            "id": "0cb4bfdf",
            "metadata": {
                "trusted": true
            },
            "outputs": [],
            "source": "def scale(x, min, max):\n    return (x - min) / (max - min)\n\ndata = []\nfor d in days:\n    scaled = d.copy()\n    scaled['confidence'] = scaled['confidence'].apply(scale, args=(min_conf, max_conf))\n    data.append(scaled.values.tolist())\n\ndata[0]"
        },
        {
            "cell_type": "markdown",
            "id": "29f56a4e",
            "metadata": {},
            "source": "## Create a time index list so that folium knows what date to put on each step"
        },
        {
            "cell_type": "code",
            "execution_count": null,
            "id": "081f8cb2",
            "metadata": {
                "trusted": true
            },
            "outputs": [],
            "source": "start_date = datetime(year=2019, month=8, day=1)\n# generate the proper date string for each day\ntime_index = [(start_date + k * timedelta(1)).strftime(\"%Y-%m-%d\") for k in range(len(data))]"
        },
        {
            "cell_type": "markdown",
            "id": "d6019a9f",
            "metadata": {},
            "source": "## Make a heatmap of confidence values over coordinates"
        },
        {
            "cell_type": "code",
            "execution_count": null,
            "id": "09191ead",
            "metadata": {
                "trusted": true
            },
            "outputs": [],
            "source": "m = folium.Map(\n    [-24.0, 140.0],\n    zoom_start=4,\n)\n\nhm = HeatMapWithTime(data, index=time_index, auto_play=True)\nhm.add_to(m)\n\nos.makedirs('graphs/', exist_ok=True)\nm.save('graphs/fire_archive_M6_96619.html')"
        }
    ],
    "metadata": {
        "kernelspec": {
            "display_name": "Python 3 (ipykernel)",
            "language": "python",
            "name": "python3"
        },
        "language_info": {
            "codemirror_mode": {
                "name": "ipython",
                "version": 3
            },
            "file_extension": ".py",
            "mimetype": "text/x-python",
            "name": "python",
            "nbconvert_exporter": "python",
            "pygments_lexer": "ipython3",
            "version": "3.10.12"
        }
    },
    "nbformat": 4,
    "nbformat_minor": 5
}