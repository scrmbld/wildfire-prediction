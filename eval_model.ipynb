{
    "cells": [
        {
            "cell_type": "markdown",
            "id": "42fec090",
            "metadata": {},
            "source": "# Graphing model predictions against actual values"
        },
        {
            "cell_type": "code",
            "execution_count": 1,
            "id": "2c68f280",
            "metadata": {
                "trusted": true
            },
            "outputs": [],
            "source": "import torch\nimport os\nimport json\nimport math\n\nimport numpy as np\nimport pandas as pd\n\nimport preproc"
        },
        {
            "cell_type": "code",
            "execution_count": 2,
            "id": "23429e28",
            "metadata": {
                "trusted": true
            },
            "outputs": [],
            "source": "device = torch.device('cuda' if torch.cuda.is_available() else 'cpu')"
        },
        {
            "cell_type": "markdown",
            "id": "a56d43aa",
            "metadata": {},
            "source": "## read the dataset"
        },
        {
            "cell_type": "code",
            "execution_count": 3,
            "id": "f331edb0",
            "metadata": {
                "trusted": true
            },
            "outputs": [],
            "source": "data_dir = 'dataset/reduced_preprocessed'\ntrain = np.load(os.path.join(data_dir, 'train.npy'))\nvalid = np.load(os.path.join(data_dir, 'valid.npy'))\ntest = np.load(os.path.join(data_dir, 'test.npy'))\n# load the bounds as well\nbounds_path = os.path.join(data_dir, 'bounds.json')\nbounds = {}\nwith open(bounds_path)as file:\n    bounds = json.load(file)\n\ncols = list(bounds.keys())\n\n# split into inputs and labels\nx_train = torch.Tensor(train[:,:64,:])\ny_train = torch.Tensor(train[:,64,:])\n\nx_valid = torch.Tensor(valid[:,:64,:])\ny_valid = torch.Tensor(valid[:,64,:])\n\nx_test = torch.Tensor(test[:,:64,:])\ny_test = torch.Tensor(test[:,64,:])"
        },
        {
            "cell_type": "markdown",
            "id": "1a2915cf",
            "metadata": {},
            "source": "## Load the model"
        },
        {
            "cell_type": "code",
            "execution_count": 4,
            "id": "2383bd29",
            "metadata": {
                "trusted": true
            },
            "outputs": [],
            "source": "from lstm_model import FirePredictor\n\nhidden_dim = 1024\nn_layers = 4\nmodel = FirePredictor(train.shape[-1], preproc.WINDOW_SIZE, hidden_dim, n_layers)\nmodel.eval()\nmodel.from_json('models/reduced_lstm.json')"
        },
        {
            "cell_type": "markdown",
            "id": "6b90d3c2",
            "metadata": {},
            "source": "## Run the model"
        },
        {
            "cell_type": "code",
            "execution_count": 5,
            "id": "ddd18510",
            "metadata": {
                "trusted": true
            },
            "outputs": [],
            "source": "with torch.no_grad():\n    p_valid = model(x_valid.to(device))\n    p_train = model(x_train[0:x_valid.shape[0]].to(device))"
        },
        {
            "cell_type": "markdown",
            "id": "4c84fb19",
            "metadata": {},
            "source": "## un-preprocess the results"
        },
        {
            "cell_type": "code",
            "execution_count": 6,
            "id": "7c48b315",
            "metadata": {
                "trusted": true
            },
            "outputs": [
                {
                    "data": {
                        "text/plain": "(161, 3)"
                    },
                    "metadata": {},
                    "output_type": "display_data"
                },
                {
                    "data": {
                        "text/html": "<div>\n<style scoped>\n    .dataframe tbody tr th:only-of-type {\n        vertical-align: middle;\n    }\n\n    .dataframe tbody tr th {\n        vertical-align: top;\n    }\n\n    .dataframe thead th {\n        text-align: right;\n    }\n</style>\n<table border=\"1\" class=\"dataframe\">\n  <thead>\n    <tr style=\"text-align: right;\">\n      <th></th>\n      <th>latitude</th>\n      <th>longitude</th>\n      <th>timestamp</th>\n    </tr>\n  </thead>\n  <tbody>\n    <tr>\n      <th>0</th>\n      <td>-14.956472</td>\n      <td>131.076531</td>\n      <td>1.565131e+09</td>\n    </tr>\n    <tr>\n      <th>1</th>\n      <td>-15.212038</td>\n      <td>131.101844</td>\n      <td>1.564859e+09</td>\n    </tr>\n    <tr>\n      <th>2</th>\n      <td>-14.889662</td>\n      <td>131.690436</td>\n      <td>1.564676e+09</td>\n    </tr>\n    <tr>\n      <th>3</th>\n      <td>-14.645594</td>\n      <td>131.571813</td>\n      <td>1.564631e+09</td>\n    </tr>\n    <tr>\n      <th>4</th>\n      <td>-14.165296</td>\n      <td>131.322979</td>\n      <td>1.564682e+09</td>\n    </tr>\n  </tbody>\n</table>\n</div>",
                        "text/plain": "    latitude   longitude     timestamp\n0 -14.956472  131.076531  1.565131e+09\n1 -15.212038  131.101844  1.564859e+09\n2 -14.889662  131.690436  1.564676e+09\n3 -14.645594  131.571813  1.564631e+09\n4 -14.165296  131.322979  1.564682e+09"
                    },
                    "metadata": {},
                    "output_type": "display_data"
                },
                {
                    "data": {
                        "text/plain": "(484, 3)"
                    },
                    "metadata": {},
                    "output_type": "display_data"
                },
                {
                    "data": {
                        "text/html": "<div>\n<style scoped>\n    .dataframe tbody tr th:only-of-type {\n        vertical-align: middle;\n    }\n\n    .dataframe tbody tr th {\n        vertical-align: top;\n    }\n\n    .dataframe thead th {\n        text-align: right;\n    }\n</style>\n<table border=\"1\" class=\"dataframe\">\n  <thead>\n    <tr style=\"text-align: right;\">\n      <th></th>\n      <th>latitude</th>\n      <th>longitude</th>\n      <th>timestamp</th>\n    </tr>\n  </thead>\n  <tbody>\n    <tr>\n      <th>0</th>\n      <td>-15.4381</td>\n      <td>130.5266</td>\n      <td>1.564662e+09</td>\n    </tr>\n    <tr>\n      <th>1</th>\n      <td>-15.1529</td>\n      <td>131.1778</td>\n      <td>1.564662e+09</td>\n    </tr>\n    <tr>\n      <th>2</th>\n      <td>-15.0855</td>\n      <td>130.5753</td>\n      <td>1.564662e+09</td>\n    </tr>\n    <tr>\n      <th>3</th>\n      <td>-14.3149</td>\n      <td>130.6678</td>\n      <td>1.564662e+09</td>\n    </tr>\n    <tr>\n      <th>4</th>\n      <td>-13.0290</td>\n      <td>132.9311</td>\n      <td>1.564662e+09</td>\n    </tr>\n  </tbody>\n</table>\n</div>",
                        "text/plain": "   latitude  longitude     timestamp\n0  -15.4381   130.5266  1.564662e+09\n1  -15.1529   131.1778  1.564662e+09\n2  -15.0855   130.5753  1.564662e+09\n3  -14.3149   130.6678  1.564662e+09\n4  -13.0290   132.9311  1.564662e+09"
                    },
                    "metadata": {},
                    "output_type": "display_data"
                }
            ],
            "source": "train_p_frame = pd.DataFrame(p_train.cpu().detach().numpy(), columns=cols)\ntrain_p_frame = preproc.unprocess(train_p_frame, bounds)\ndisplay(train_p_frame.shape)\ndisplay(train_p_frame.head())\n\ntrain_y_frame = pd.DataFrame(y_train.cpu().detach().numpy(), columns=cols)\ntrain_y_frame = preproc.unprocess(train_y_frame, bounds)\ndisplay(train_y_frame.shape)\ndisplay(train_y_frame.head())"
        },
        {
            "cell_type": "code",
            "execution_count": 7,
            "id": "b2a257ed",
            "metadata": {
                "trusted": true
            },
            "outputs": [
                {
                    "data": {
                        "text/plain": "(161, 3)"
                    },
                    "metadata": {},
                    "output_type": "display_data"
                },
                {
                    "data": {
                        "text/html": "<div>\n<style scoped>\n    .dataframe tbody tr th:only-of-type {\n        vertical-align: middle;\n    }\n\n    .dataframe tbody tr th {\n        vertical-align: top;\n    }\n\n    .dataframe thead th {\n        text-align: right;\n    }\n</style>\n<table border=\"1\" class=\"dataframe\">\n  <thead>\n    <tr style=\"text-align: right;\">\n      <th></th>\n      <th>latitude</th>\n      <th>longitude</th>\n      <th>timestamp</th>\n    </tr>\n  </thead>\n  <tbody>\n    <tr>\n      <th>0</th>\n      <td>-13.195839</td>\n      <td>134.196302</td>\n      <td>1.567519e+09</td>\n    </tr>\n    <tr>\n      <th>1</th>\n      <td>-13.157678</td>\n      <td>134.004862</td>\n      <td>1.567488e+09</td>\n    </tr>\n    <tr>\n      <th>2</th>\n      <td>-13.102028</td>\n      <td>134.319210</td>\n      <td>1.567543e+09</td>\n    </tr>\n    <tr>\n      <th>3</th>\n      <td>-12.994351</td>\n      <td>133.988489</td>\n      <td>1.567489e+09</td>\n    </tr>\n    <tr>\n      <th>4</th>\n      <td>-12.872519</td>\n      <td>133.703639</td>\n      <td>1.567512e+09</td>\n    </tr>\n  </tbody>\n</table>\n</div>",
                        "text/plain": "    latitude   longitude     timestamp\n0 -13.195839  134.196302  1.567519e+09\n1 -13.157678  134.004862  1.567488e+09\n2 -13.102028  134.319210  1.567543e+09\n3 -12.994351  133.988489  1.567489e+09\n4 -12.872519  133.703639  1.567512e+09"
                    },
                    "metadata": {},
                    "output_type": "display_data"
                },
                {
                    "data": {
                        "text/plain": "(161, 3)"
                    },
                    "metadata": {},
                    "output_type": "display_data"
                },
                {
                    "data": {
                        "text/html": "<div>\n<style scoped>\n    .dataframe tbody tr th:only-of-type {\n        vertical-align: middle;\n    }\n\n    .dataframe tbody tr th {\n        vertical-align: top;\n    }\n\n    .dataframe thead th {\n        text-align: right;\n    }\n</style>\n<table border=\"1\" class=\"dataframe\">\n  <thead>\n    <tr style=\"text-align: right;\">\n      <th></th>\n      <th>latitude</th>\n      <th>longitude</th>\n      <th>timestamp</th>\n    </tr>\n  </thead>\n  <tbody>\n    <tr>\n      <th>0</th>\n      <td>-12.4988</td>\n      <td>133.8459</td>\n      <td>1.567338e+09</td>\n    </tr>\n    <tr>\n      <th>1</th>\n      <td>-12.2855</td>\n      <td>134.6376</td>\n      <td>1.567338e+09</td>\n    </tr>\n    <tr>\n      <th>2</th>\n      <td>-12.2702</td>\n      <td>134.5508</td>\n      <td>1.567338e+09</td>\n    </tr>\n    <tr>\n      <th>3</th>\n      <td>-12.1738</td>\n      <td>134.4555</td>\n      <td>1.567338e+09</td>\n    </tr>\n    <tr>\n      <th>4</th>\n      <td>-11.7896</td>\n      <td>132.7161</td>\n      <td>1.567338e+09</td>\n    </tr>\n  </tbody>\n</table>\n</div>",
                        "text/plain": "   latitude  longitude     timestamp\n0  -12.4988   133.8459  1.567338e+09\n1  -12.2855   134.6376  1.567338e+09\n2  -12.2702   134.5508  1.567338e+09\n3  -12.1738   134.4555  1.567338e+09\n4  -11.7896   132.7161  1.567338e+09"
                    },
                    "metadata": {},
                    "output_type": "display_data"
                }
            ],
            "source": "valid_p_frame = pd.DataFrame(p_valid.cpu().detach().numpy(), columns=cols)\nvalid_p_frame = preproc.unprocess(valid_p_frame, bounds)\ndisplay(valid_p_frame.shape)\ndisplay(valid_p_frame.head())\n\nvalid_y_frame = pd.DataFrame(y_valid.detach().numpy(), columns=cols)\nvalid_y_frame = preproc.unprocess(valid_y_frame, bounds)\ndisplay(valid_y_frame.shape)\ndisplay(valid_y_frame.head())"
        },
        {
            "cell_type": "code",
            "execution_count": 8,
            "id": "34afb619",
            "metadata": {
                "trusted": true
            },
            "outputs": [
                {
                    "data": {
                        "text/plain": "latitude          1.350285\nlongitude         2.277625\ntimestamp    308088.618063\ndtype: float64"
                    },
                    "metadata": {},
                    "output_type": "display_data"
                },
                {
                    "data": {
                        "text/plain": "latitude          0.820840\nlongitude         0.776884\ntimestamp    268747.940125\ndtype: float64"
                    },
                    "metadata": {},
                    "output_type": "display_data"
                }
            ],
            "source": "display(valid_y_frame.std(axis=0))\ndisplay(valid_p_frame.std(axis=0))"
        },
        {
            "cell_type": "markdown",
            "id": "00b936c4",
            "metadata": {},
            "source": "# Make the graph"
        },
        {
            "cell_type": "code",
            "execution_count": 9,
            "id": "b056a59a",
            "metadata": {
                "trusted": true
            },
            "outputs": [],
            "source": "import folium\nimport geojson\nfrom datetime import datetime"
        },
        {
            "cell_type": "markdown",
            "id": "84ca9255",
            "metadata": {},
            "source": "Convert data to GeoJSON"
        },
        {
            "cell_type": "code",
            "execution_count": 10,
            "id": "737e8c88",
            "metadata": {
                "trusted": true
            },
            "outputs": [],
            "source": "def get_points(df):\n    points = list(zip(df['longitude'], df['latitude']))\n    return geojson.MultiPoint(points)\n\ntrain_y_markers = get_points(train_y_frame)\ntrain_p_markers = get_points(train_p_frame)\nvalid_y_markers = get_points(valid_y_frame)\nvalid_p_markers = get_points(valid_p_frame)"
        },
        {
            "cell_type": "code",
            "execution_count": 11,
            "id": "e10234b4",
            "metadata": {
                "trusted": true
            },
            "outputs": [
                {
                    "data": {
                        "text/html": "<div style=\"width:100%;\"><div style=\"position:relative;width:100%;height:0;padding-bottom:60%;\"><span style=\"color:#565656\">Make this Notebook Trusted to load map: File -> Trust Notebook</span><iframe srcdoc=\"&lt;!DOCTYPE html&gt;\n&lt;html&gt;\n&lt;head&gt;\n    \n    &lt;meta http-equiv=&quot;content-type&quot; content=&quot;text/html; charset=UTF-8&quot; /&gt;\n    \n        &lt;script&gt;\n            L_NO_TOUCH = false;\n            L_DISABLE_3D = false;\n        &lt;/script&gt;\n    \n    &lt;style&gt;html, body {width: 100%;height: 100%;margin: 0;padding: 0;}&lt;/style&gt;\n    &lt;style&gt;#map {position:absolute;top:0;bottom:0;right:0;left:0;}&lt;/style&gt;\n    &lt;script src=&quot;https://cdn.jsdelivr.net/npm/leaflet@1.9.3/dist/leaflet.js&quot;&gt;&lt;/script&gt;\n    &lt;script src=&quot;https://code.jquery.com/jquery-3.7.1.min.js&quot;&gt;&lt;/script&gt;\n    &lt;script src=&quot;https://cdn.jsdelivr.net/npm/bootstrap@5.2.2/dist/js/bootstrap.bundle.min.js&quot;&gt;&lt;/script&gt;\n    &lt;script src=&quot;https://cdnjs.cloudflare.com/ajax/libs/Leaflet.awesome-markers/2.0.2/leaflet.awesome-markers.js&quot;&gt;&lt;/script&gt;\n    &lt;link rel=&quot;stylesheet&quot; href=&quot;https://cdn.jsdelivr.net/npm/leaflet@1.9.3/dist/leaflet.css&quot;/&gt;\n    &lt;link rel=&quot;stylesheet&quot; href=&quot;https://cdn.jsdelivr.net/npm/bootstrap@5.2.2/dist/css/bootstrap.min.css&quot;/&gt;\n    &lt;link rel=&quot;stylesheet&quot; href=&quot;https://netdna.bootstrapcdn.com/bootstrap/3.0.0/css/bootstrap-glyphicons.css&quot;/&gt;\n    &lt;link rel=&quot;stylesheet&quot; href=&quot;https://cdn.jsdelivr.net/npm/@fortawesome/fontawesome-free@6.2.0/css/all.min.css&quot;/&gt;\n    &lt;link rel=&quot;stylesheet&quot; href=&quot;https://cdnjs.cloudflare.com/ajax/libs/Leaflet.awesome-markers/2.0.2/leaflet.awesome-markers.css&quot;/&gt;\n    &lt;link rel=&quot;stylesheet&quot; href=&quot;https://cdn.jsdelivr.net/gh/python-visualization/folium/folium/templates/leaflet.awesome.rotate.min.css&quot;/&gt;\n    \n            &lt;meta name=&quot;viewport&quot; content=&quot;width=device-width,\n                initial-scale=1.0, maximum-scale=1.0, user-scalable=no&quot; /&gt;\n            &lt;style&gt;\n                #map_9527a2dd7f9c2ab65148266b2f20e491 {\n                    position: relative;\n                    width: 100.0%;\n                    height: 100.0%;\n                    left: 0.0%;\n                    top: 0.0%;\n                }\n                .leaflet-container { font-size: 1rem; }\n            &lt;/style&gt;\n        \n&lt;/head&gt;\n&lt;body&gt;\n    \n    \n            &lt;div class=&quot;folium-map&quot; id=&quot;map_9527a2dd7f9c2ab65148266b2f20e491&quot; &gt;&lt;/div&gt;\n        \n&lt;/body&gt;\n&lt;script&gt;\n    \n    \n            var map_9527a2dd7f9c2ab65148266b2f20e491 = L.map(\n                &quot;map_9527a2dd7f9c2ab65148266b2f20e491&quot;,\n                {\n                    center: [-30.0, 140.0],\n                    crs: L.CRS.EPSG3857,\n                    zoom: 4,\n                    zoomControl: true,\n                    preferCanvas: false,\n                }\n            );\n\n            \n\n        \n    \n            var tile_layer_f48aed68c248937cb48f8b7b8c6d0226 = L.tileLayer(\n                &quot;https://{s}.tile.opentopomap.org/{z}/{x}/{y}.png&quot;,\n                {&quot;attribution&quot;: &quot;Map data: \\u0026copy; \\u003ca href=\\&quot;https://www.openstreetmap.org/copyright\\&quot;\\u003eOpenStreetMap\\u003c/a\\u003e contributors, \\u003ca href=\\&quot;http://viewfinderpanoramas.org\\&quot;\\u003eSRTM\\u003c/a\\u003e | Map style: \\u0026copy; \\u003ca href=\\&quot;https://opentopomap.org\\&quot;\\u003eOpenTopoMap\\u003c/a\\u003e (\\u003ca href=\\&quot;https://creativecommons.org/licenses/by-sa/3.0/\\&quot;\\u003eCC-BY-SA\\u003c/a\\u003e)&quot;, &quot;detectRetina&quot;: false, &quot;maxNativeZoom&quot;: 17, &quot;maxZoom&quot;: 17, &quot;minZoom&quot;: 0, &quot;noWrap&quot;: false, &quot;opacity&quot;: 1, &quot;subdomains&quot;: &quot;abc&quot;, &quot;tms&quot;: false}\n            );\n        \n    \n            tile_layer_f48aed68c248937cb48f8b7b8c6d0226.addTo(map_9527a2dd7f9c2ab65148266b2f20e491);\n        \n    \n        function geo_json_2a5865c363d3510cbe12c1bfb0e274dd_styler(feature) {\n            switch(feature.id) {\n                default:\n                    return {&quot;fillColor&quot;: &quot;blue&quot;, &quot;radius&quot;: 3000};\n            }\n        }\n        function geo_json_2a5865c363d3510cbe12c1bfb0e274dd_highlighter(feature) {\n            switch(feature.id) {\n                default:\n                    return {&quot;fillOpacity&quot;: 0.8};\n            }\n        }\n        function geo_json_2a5865c363d3510cbe12c1bfb0e274dd_pointToLayer(feature, latlng) {\n            var opts = {&quot;bubblingMouseEvents&quot;: true, &quot;color&quot;: &quot;black&quot;, &quot;dashArray&quot;: null, &quot;dashOffset&quot;: null, &quot;fill&quot;: true, &quot;fillColor&quot;: &quot;blue&quot;, &quot;fillOpacity&quot;: 0.5, &quot;fillRule&quot;: &quot;evenodd&quot;, &quot;lineCap&quot;: &quot;round&quot;, &quot;lineJoin&quot;: &quot;round&quot;, &quot;opacity&quot;: 1.0, &quot;radius&quot;: 100, &quot;stroke&quot;: true, &quot;weight&quot;: 1};\n            \n            let style = geo_json_2a5865c363d3510cbe12c1bfb0e274dd_styler(feature)\n            Object.assign(opts, style)\n            \n            return new L.circle(latlng, opts)\n        }\n\n        function geo_json_2a5865c363d3510cbe12c1bfb0e274dd_onEachFeature(feature, layer) {\n            layer.on({\n                mouseout: function(e) {\n                    if(typeof e.target.setStyle === &quot;function&quot;){\n                            geo_json_2a5865c363d3510cbe12c1bfb0e274dd.resetStyle(e.target);\n                    }\n                },\n                mouseover: function(e) {\n                    if(typeof e.target.setStyle === &quot;function&quot;){\n                        const highlightStyle = geo_json_2a5865c363d3510cbe12c1bfb0e274dd_highlighter(e.target.feature)\n                        e.target.setStyle(highlightStyle);\n                    }\n                },\n            });\n        };\n        var geo_json_2a5865c363d3510cbe12c1bfb0e274dd = L.geoJson(null, {\n                onEachFeature: geo_json_2a5865c363d3510cbe12c1bfb0e274dd_onEachFeature,\n            \n                style: geo_json_2a5865c363d3510cbe12c1bfb0e274dd_styler,\n                pointToLayer: geo_json_2a5865c363d3510cbe12c1bfb0e274dd_pointToLayer,\n        });\n\n        function geo_json_2a5865c363d3510cbe12c1bfb0e274dd_add (data) {\n            geo_json_2a5865c363d3510cbe12c1bfb0e274dd\n                .addData(data);\n        }\n            geo_json_2a5865c363d3510cbe12c1bfb0e274dd_add({&quot;features&quot;: [{&quot;geometry&quot;: {&quot;coordinates&quot;: [[130.5266, -15.4381], [131.1778, -15.1529], [130.5753, -15.0855], [130.6678, -14.3149], [132.9311, -13.029], [133.0855, -12.4504], [130.3596, -11.6613], [132.9653, -13.0117], [129.9285, -15.1877], [130.8092, -11.4031], [130.661, -11.7311], [133.9089, -12.6936], [131.5048, -12.5083], [132.9278, -13.0592], [131.4855, -13.5723], [130.6689, -14.1811], [130.7256, -14.2446], [130.6375, -14.6275], [131.7864, -15.0126], [131.2514, -15.2033], [130.7608, -15.3813], [130.639, -15.511], [131.1774, -15.2661], [131.3123, -15.187], [134.9339, -14.278], [130.664, -14.1564], [135.7022, -13.0186], [134.2417, -13.0954], [134.5844, -12.8901], [134.2393, -12.811], [133.8984, -12.7265], [137.0724, -15.7898], [130.1499, -13.05], [134.8967, -12.2189], [130.8066, -11.3957], [131.4909, -12.5217], [131.0975, -15.2645], [130.7233, -14.2235], [131.4391, -13.6243], [132.907, -13.1198], [133.9083, -12.6772], [132.9053, -13.0623], [130.5314, -15.1238], [129.9899, -14.175], [130.7114, -14.1715], [129.9647, -14.1648], [129.7651, -13.8656], [132.0437, -13.359], [130.8099, -12.9683], [131.1187, -12.4603], [130.4304, -15.5146], [131.0988, -15.2673], [130.5377, -15.1296], [130.6989, -14.7662], [131.0778, -12.3313], [130.4208, -11.6687], [130.7894, -11.3751], [130.6196, -12.4762], [130.6342, -11.687], [134.4053, -12.8093], [134.2349, -13.0054], [131.9214, -13.1923], [129.9402, -13.7257], [130.7371, -14.2009], [129.8026, -14.3594], [131.3434, -15.1877], [131.0994, -15.2763], [131.3562, -15.4946], [130.6221, -15.5259], [130.7474, -15.4634], [137.0353, -16.3487], [134.4858, -12.9225], [132.248, -13.1249], [130.7639, -15.458], [130.6866, -14.7879], [132.0815, -13.4002], [130.9329, -11.3533], [132.105, -13.4978], [131.378, -15.5179], [130.9388, -11.3477], [130.4654, -15.522], [131.6798, -14.5264], [130.4334, -15.5254], [130.385, -15.1738], [130.6954, -14.662], [129.5665, -14.4792], [130.6428, -14.0435], [133.7661, -13.2176], [134.3903, -12.0955], [130.6611, -11.695], [130.9166, -11.3366], [130.4964, -15.649], [134.5125, -12.1744], [129.8461, -15.2515], [130.4567, -15.5404], [130.4672, -15.5483], [130.3945, -15.2161], [129.7355, -14.3121], [130.5538, -15.1514], [131.141, -15.3089], [137.0451, -16.3278], [130.4757, -13.9744], [132.1341, -13.4904], [130.8882, -12.6608], [130.7201, -14.7351], [130.5432, -15.1597], [131.494, -12.5312], [130.4675, -15.1984], [130.8002, -15.4158], [130.6776, -15.5382], [130.6918, -14.5793], [133.9416, -12.6774], [130.4833, -15.1754], [130.8204, -15.343], [130.7802, -15.4773], [130.53, -15.6405], [130.7625, -14.2882], [137.0309, -15.7105], [130.8155, -15.3239], [132.4699, -11.4239], [132.3482, -11.2387], [134.226, -13.0686], [132.9583, -12.8539], [132.4806, -12.746], [130.5212, -15.6436], [130.8517, -15.3789], [131.1816, -12.2964], [130.8511, -15.4233], [131.0552, -13.7524], [130.4873, -15.2114], [130.4991, -15.5952], [130.8302, -15.4719], [130.5115, -13.9434], [131.093, -15.4013], [132.1518, -13.4641], [130.7168, -15.5157], [130.6747, -13.9947], [132.6006, -12.8919], [130.7222, -14.6635], [130.8405, -15.4769], [130.5856, -15.5966], [136.8551, -16.3554], [137.0278, -15.6976], [130.4469, -15.5974], [130.8289, -15.4766], [131.5966, -14.6353], [137.0347, -16.3127], [137.0212, -16.2869], [131.2003, -12.2824], [132.3298, -11.245], [131.316, -15.5604], [130.8765, -15.385], [132.5075, -12.6696], [132.5236, -12.6818], [130.6409, -15.599], [137.0448, -15.6925], [133.1865, -14.6143], [136.9877, -16.2818], [130.7041, -14.3609], [131.4256, -15.5783], [129.8128, -15.1492], [130.3342, -11.406], [131.9819, -12.5735], [136.9579, -16.2868], [130.9002, -11.4173], [133.5276, -12.2571], [134.248, -12.8467], [134.6463, -13.2097], [133.1013, -14.5324], [130.7096, -14.3743], [131.5683, -14.6503], [130.7236, -14.6799], [130.35, -15.2865], [136.9557, -16.2907], [130.8246, -15.5153], [130.6899, -15.5783], [136.8911, -16.3642], [136.3874, -16.1516], [136.6837, -16.0777], [133.1861, -14.5919], [133.5006, -12.2658], [131.3108, -12.6646], [134.6098, -13.2099], [131.2976, -15.5305], [130.9019, -11.4129], [130.8313, -15.5185], [129.7462, -14.0425], [130.6621, -14.5223], [129.9323, -15.088], [133.5159, -12.2705], [130.8985, -11.413], [130.6642, -14.5131], [129.8062, -15.0946], [130.8848, -15.448], [131.612, -12.7876], [129.7502, -14.0157], [129.7993, -15.0866], [136.991, -16.3296], [136.6973, -16.0779], [130.6594, -15.5899], [135.4696, -14.5545], [129.7811, -15.1487], [129.7978, -15.0727], [131.5898, -14.6886], [130.7633, -14.7466], [130.7941, -14.3279], [129.9425, -14.1221], [129.7386, -14.005], [131.0195, -13.7037], [131.0001, -13.682], [131.3959, -13.4717], [135.6145, -12.5614], [134.3406, -12.4592], [131.6194, -12.7734], [131.2955, -12.6345], [131.1602, -12.2769], [130.8957, -11.3961], [130.7922, -14.2994], [131.6518, -12.7658], [136.3615, -12.7142], [135.8075, -11.9169], [130.5571, -15.6895], [132.9508, -12.7641], [132.9939, -13.0135], [131.0575, -12.9182], [130.9799, -13.6433], [129.8107, -13.8618], [130.8121, -14.294], [131.5013, -14.6522], [137.0626, -15.6969], [136.2935, -16.0315], [136.1012, -16.1156], [136.9652, -16.3161], [136.8183, -16.6303], [135.464, -14.5424], [136.5825, -13.8786], [133.0896, -12.5166], [129.7432, -15.0098], [131.6701, -12.769], [130.9903, -13.6526], [132.9617, -12.7545], [131.5235, -14.6718], [129.9068, -15.0256], [130.6788, -15.5959], [130.6233, -12.6402], [130.3098, -14.1635], [129.7483, -14.9158], [130.2349, -15.2859], [131.4071, -15.6112], [136.9848, -16.3412], [131.4689, -15.5731], [130.2967, -15.3265], [129.8711, -15.1169], [131.6375, -14.7224], [131.4591, -14.6652], [130.4527, -11.6065], [132.2966, -13.0939], [132.924, -12.755], [131.851, -11.2359], [131.4745, -12.6504], [131.6469, -12.8644], [129.5874, -14.4212], [134.3307, -13.1265], [129.8239, -14.908], [131.5963, -12.8677], [129.8604, -15.1326], [135.5652, -12.3735], [135.0619, -12.7334], [132.7771, -14.2264], [129.7616, -14.879], [131.0474, -15.4625], [130.5599, -15.717], [131.5265, -14.7173], [129.8636, -14.0261], [130.8113, -14.7431], [133.0099, -12.9822], [132.799, -14.2406], [130.7903, -14.7496], [131.6589, -12.6617], [131.5239, -14.7378], [136.6036, -16.0824], [132.7209, -14.2249], [136.7982, -16.4742], [136.4018, -16.1919], [137.0664, -15.7166], [130.2412, -15.3523], [131.4955, -14.7435], [130.806, -14.7255], [135.6307, -13.3506], [132.5157, -12.7285], [130.4613, -15.2968], [130.6077, -15.7251], [130.8021, -14.6925], [130.8103, -14.6716], [136.384, -16.2226], [130.6936, -15.0662], [130.7753, -14.8473], [131.7622, -12.6558], [131.4211, -14.1158], [131.4801, -15.621], [130.7303, -14.8348], [130.4809, -15.2771], [136.5611, -16.0621], [131.032, -15.5141], [131.9781, -12.9303], [130.6448, -15.6717], [130.8074, -14.7667], [133.2045, -12.5308], [130.6592, -15.6446], [136.3851, -16.1827], [136.4934, -16.0366], [136.7503, -16.4631], [136.4981, -16.0361], [130.1644, -13.1666], [130.4499, -15.7119], [131.7863, -12.663], [136.6958, -16.3626], [136.5381, -15.9723], [136.7397, -16.3905], [134.0925, -12.2293], [132.8985, -12.6321], [132.0995, -12.6122], [131.79, -12.6758], [131.7473, -12.7134], [130.1826, -13.1515], [137.0622, -15.7437], [136.5981, -16.0723], [131.4914, -15.6049], [136.7241, -16.4971], [136.5859, -16.0464], [136.763, -16.6084], [136.725, -16.4861], [136.4263, -12.8069], [135.5097, -12.2447], [133.0936, -12.3099], [136.6033, -16.0042], [136.7717, -16.3806], [131.7352, -12.6704], [130.6829, -13.0835], [131.5144, -15.6225], [131.7869, -12.72], [130.046, -13.8763], [136.9253, -16.1953], [136.7709, -16.6083], [130.9447, -12.45], [130.4001, -13.5774], [136.69, -16.4299], [136.704, -16.5666], [136.5756, -15.9203], [136.5918, -15.9176], [129.9197, -13.9352], [135.6488, -12.9192], [130.3831, -13.5762], [130.647, -13.0416], [131.7923, -12.7283], [131.7946, -12.6812], [130.4334, -11.6748], [131.3069, -12.5053], [130.8241, -14.7365], [136.559, -12.3385], [132.9881, -12.6362], [136.6355, -13.7586], [135.5161, -15.4341], [136.8325, -16.106], [136.8852, -16.1413], [136.7883, -16.4033], [131.4156, -15.6747], [136.743, -16.6199], [135.0431, -14.6928], [130.7115, -13.0915], [136.7186, -16.62], [134.9115, -12.2578], [132.0521, -12.961], [130.7048, -15.6827], [130.7127, -13.0408], [129.8781, -13.9149], [131.504, -15.6878], [131.5378, -15.6278], [136.8608, -16.1037], [136.7922, -16.3702], [136.6129, -13.809], [135.8107, -13.2436], [130.35, -13.584], [136.7038, -12.3939], [130.6918, -13.0517], [132.1004, -12.6646], [134.4529, -12.1923], [132.9038, -12.3038], [131.5514, -15.625], [130.3201, -13.5699], [136.8656, -16.0961], [129.8486, -13.9285], [130.3007, -13.5715], [131.279, -12.5398], [130.3054, -13.5885], [136.6118, -12.6639], [131.4772, -15.5821], [130.3017, -13.5776], [135.1658, -12.545], [135.4179, -12.2444], [134.6036, -12.2548], [135.9187, -16.1066], [132.0961, -12.7132], [134.9496, -12.992], [133.8772, -14.4676], [136.9028, -16.1257], [131.5712, -15.5922], [136.8927, -16.121], [132.8264, -12.535], [135.9587, -12.3556], [130.2351, -13.1014], [132.8572, -12.5376], [133.8187, -14.431], [136.9018, -16.1075], [130.7497, -15.7055], [136.8389, -16.0203], [136.5229, -16.1806], [133.752, -14.4631], [132.2967, -14.4223], [129.9065, -14.28], [129.721, -14.1413], [129.8396, -13.8848], [134.2834, -12.9233], [134.8744, -12.3879], [134.884, -12.2573], [134.1241, -12.3401], [134.651, -12.1501], [132.1402, -11.4595], [129.7861, -14.1803], [133.1814, -12.2579], [133.888, -12.4869], [134.2892, -12.9433], [134.5153, -12.1209], [134.7228, -12.2901], [130.7785, -13.0144], [129.8469, -13.8873], [129.9671, -14.0902], [135.5929, -15.4367], [136.7674, -16.3241], [136.7094, -16.6386], [136.4841, -16.2878], [134.6254, -12.1513], [133.9256, -12.5018], [134.9142, -12.2245], [136.8778, -16.0145], [133.8894, -12.4387], [134.5129, -12.1224], [132.3143, -14.3628], [135.342, -12.5583], [134.419, -12.2211], [129.8105, -14.15], [136.5367, -16.1825], [130.3477, -15.8416], [131.1144, -12.3769], [132.0621, -11.4061], [136.6451, -13.7801], [129.8178, -14.2028], [130.3737, -13.5361], [135.2778, -12.5663], [133.8891, -12.5107], [134.6449, -12.2949], [134.6309, -12.2771], [134.3655, -12.2261], [134.8629, -12.2794], [132.5515, -12.6452], [132.3382, -14.3842], [136.4821, -16.3289], [130.3342, -15.8255], [136.445, -16.3654], [132.3506, -14.3574], [135.5948, -12.4102], [133.8587, -12.5123], [130.9633, -13.3206], [130.2719, -15.7629], [130.2702, -15.7731], [135.5845, -15.4885], [131.5865, -15.5433], [132.8493, -14.2585], [136.8076, -16.3409], [134.9429, -13.015], [135.248, -12.6768], [135.3752, -12.548], [130.8311, -13.0578], [133.8835, -12.5193]], &quot;type&quot;: &quot;MultiPoint&quot;}, &quot;id&quot;: &quot;0&quot;, &quot;type&quot;: &quot;Feature&quot;}], &quot;type&quot;: &quot;FeatureCollection&quot;});\n\n        \n    \n            geo_json_2a5865c363d3510cbe12c1bfb0e274dd.addTo(map_9527a2dd7f9c2ab65148266b2f20e491);\n        \n    \n        function geo_json_12387c78c6a7a3e573858ec0b5a5e80f_styler(feature) {\n            switch(feature.id) {\n                default:\n                    return {&quot;fillColor&quot;: &quot;green&quot;, &quot;radius&quot;: 3000};\n            }\n        }\n        function geo_json_12387c78c6a7a3e573858ec0b5a5e80f_highlighter(feature) {\n            switch(feature.id) {\n                default:\n                    return {&quot;fillOpacity&quot;: 0.8};\n            }\n        }\n        function geo_json_12387c78c6a7a3e573858ec0b5a5e80f_pointToLayer(feature, latlng) {\n            var opts = {&quot;bubblingMouseEvents&quot;: true, &quot;color&quot;: &quot;black&quot;, &quot;dashArray&quot;: null, &quot;dashOffset&quot;: null, &quot;fill&quot;: true, &quot;fillColor&quot;: &quot;green&quot;, &quot;fillOpacity&quot;: 0.5, &quot;fillRule&quot;: &quot;evenodd&quot;, &quot;lineCap&quot;: &quot;round&quot;, &quot;lineJoin&quot;: &quot;round&quot;, &quot;opacity&quot;: 1.0, &quot;radius&quot;: 100, &quot;stroke&quot;: true, &quot;weight&quot;: 1};\n            \n            let style = geo_json_12387c78c6a7a3e573858ec0b5a5e80f_styler(feature)\n            Object.assign(opts, style)\n            \n            return new L.circle(latlng, opts)\n        }\n\n        function geo_json_12387c78c6a7a3e573858ec0b5a5e80f_onEachFeature(feature, layer) {\n            layer.on({\n                mouseout: function(e) {\n                    if(typeof e.target.setStyle === &quot;function&quot;){\n                            geo_json_12387c78c6a7a3e573858ec0b5a5e80f.resetStyle(e.target);\n                    }\n                },\n                mouseover: function(e) {\n                    if(typeof e.target.setStyle === &quot;function&quot;){\n                        const highlightStyle = geo_json_12387c78c6a7a3e573858ec0b5a5e80f_highlighter(e.target.feature)\n                        e.target.setStyle(highlightStyle);\n                    }\n                },\n            });\n        };\n        var geo_json_12387c78c6a7a3e573858ec0b5a5e80f = L.geoJson(null, {\n                onEachFeature: geo_json_12387c78c6a7a3e573858ec0b5a5e80f_onEachFeature,\n            \n                style: geo_json_12387c78c6a7a3e573858ec0b5a5e80f_styler,\n                pointToLayer: geo_json_12387c78c6a7a3e573858ec0b5a5e80f_pointToLayer,\n        });\n\n        function geo_json_12387c78c6a7a3e573858ec0b5a5e80f_add (data) {\n            geo_json_12387c78c6a7a3e573858ec0b5a5e80f\n                .addData(data);\n        }\n            geo_json_12387c78c6a7a3e573858ec0b5a5e80f_add({&quot;features&quot;: [{&quot;geometry&quot;: {&quot;coordinates&quot;: [[131.076531, -14.956472], [131.101844, -15.212038], [131.690436, -14.889662], [131.571813, -14.645594], [131.322979, -14.165296], [131.109956, -12.505651], [131.260648, -12.830613], [131.066998, -12.783589], [131.890701, -14.859719], [131.096165, -12.590484], [130.83385, -12.475309], [132.092216, -13.563062], [131.88465, -13.236917], [131.857365, -13.482693], [131.302227, -13.719399], [131.351822, -14.173344], [130.914498, -14.248436], [131.014312, -14.405353], [131.397202, -14.637655], [131.693606, -14.964394], [131.335754, -14.857755], [131.488646, -15.182929], [131.539758, -15.047789], [133.30257, -15.806781], [132.026203, -14.679384], [131.362596, -14.41276], [131.46828, -14.199506], [132.930195, -13.772646], [132.859074, -13.499103], [132.149817, -13.491508], [131.963505, -13.376319], [132.026176, -13.496552], [132.035895, -15.129892], [130.482775, -12.224627], [132.090225, -13.526908], [131.596697, -12.600676], [131.594848, -13.53471], [131.021951, -14.792935], [130.877902, -14.25923], [131.556099, -14.793855], [132.058734, -13.607638], [131.787099, -12.870535], [131.445232, -14.13151], [132.638988, -15.475587], [131.395448, -14.190742], [131.377521, -14.293358], [130.998421, -14.107837], [131.701953, -13.901887], [132.136539, -13.60248], [131.250699, -13.15718], [131.407331, -15.11693], [131.032518, -15.110925], [131.381769, -14.97613], [131.673685, -14.896404], [131.277815, -13.927457], [131.34334, -12.672675], [130.975961, -12.47964], [130.844959, -12.73303], [131.058279, -12.969119], [131.433065, -12.922968], [131.794788, -13.30501], [131.735109, -13.434039], [131.488777, -13.86864], [131.143093, -14.075074], [131.074723, -14.301243], [132.221213, -15.220015], [131.989614, -14.923445], [132.148322, -15.131936], [131.976488, -15.28252], [132.158305, -15.445281], [134.055419, -16.003376], [133.651575, -15.214803], [131.869066, -13.356175], [131.635472, -13.820156], [131.486245, -15.062509], [131.37965, -14.010476], [132.22909, -13.461425], [131.940456, -12.841861], [131.492479, -14.913957], [131.698846, -15.345939], [131.835345, -13.209524], [131.880903, -15.15777], [132.701825, -15.542815], [131.697912, -14.817894], [131.671177, -14.91683], [131.596643, -14.514689], [131.395922, -14.346911], [131.421589, -14.147768], [132.153872, -13.520831], [131.645253, -12.926465], [130.857201, -12.414352], [130.842283, -12.406375], [131.389277, -14.188568], [131.81985, -13.09451], [131.545766, -15.27162], [131.104599, -15.096675], [132.14302, -15.388739], [132.686252, -14.534307], [132.5784, -14.979769], [131.528262, -14.949696], [132.37897, -15.45917], [132.960104, -14.534573], [131.957781, -14.268915], [131.725218, -13.865634], [132.156224, -14.329808], [131.533557, -14.751202], [131.40664, -14.893096], [131.977959, -14.4621], [131.985496, -15.1436], [131.839964, -15.137145], [131.854858, -14.916613], [131.561218, -12.892865], [132.440711, -14.403062], [131.602273, -15.001393], [131.526186, -15.146591], [132.099988, -15.202456], [131.87353, -14.183208], [133.976407, -16.024801], [134.236933, -15.158875], [132.206555, -14.769585], [131.063753, -12.513333], [132.673498, -13.623291], [132.460788, -13.608655], [132.065467, -13.042846], [131.364718, -12.764585], [131.549487, -15.219019], [131.155064, -14.760401], [131.953278, -14.008526], [132.02908, -14.726804], [132.688932, -14.749695], [132.531609, -15.108766], [131.825988, -15.093812], [131.580793, -14.832422], [132.030042, -13.244004], [132.471417, -13.881226], [133.275496, -14.734371], [132.07112, -13.542894], [132.159168, -13.958355], [132.400978, -14.301326], [132.664538, -15.299814], [132.849141, -15.647314], [132.329255, -15.291635], [133.024901, -13.974691], [134.039167, -15.281157], [131.847003, -14.946424], [131.332469, -15.185581], [132.726257, -14.82837], [134.874703, -16.188502], [134.887157, -15.523683], [132.648001, -13.115289], [131.705248, -13.065913], [131.717544, -15.298397], [131.529493, -14.019875], [132.499895, -13.495922], [132.500349, -14.853197], [132.405645, -14.533923], [132.863291, -14.702156], [134.824456, -16.099909], [132.136015, -13.661089], [132.193399, -14.910548], [131.84131, -13.982612]], &quot;type&quot;: &quot;MultiPoint&quot;}, &quot;id&quot;: &quot;0&quot;, &quot;type&quot;: &quot;Feature&quot;}], &quot;type&quot;: &quot;FeatureCollection&quot;});\n\n        \n    \n            geo_json_12387c78c6a7a3e573858ec0b5a5e80f.addTo(map_9527a2dd7f9c2ab65148266b2f20e491);\n        \n    \n        function geo_json_f3657102568f7fb78aba70bdab41c6b8_styler(feature) {\n            switch(feature.id) {\n                default:\n                    return {&quot;fillColor&quot;: &quot;red&quot;, &quot;radius&quot;: 3000};\n            }\n        }\n        function geo_json_f3657102568f7fb78aba70bdab41c6b8_highlighter(feature) {\n            switch(feature.id) {\n                default:\n                    return {&quot;fillOpacity&quot;: 0.8};\n            }\n        }\n        function geo_json_f3657102568f7fb78aba70bdab41c6b8_pointToLayer(feature, latlng) {\n            var opts = {&quot;bubblingMouseEvents&quot;: true, &quot;color&quot;: &quot;black&quot;, &quot;dashArray&quot;: null, &quot;dashOffset&quot;: null, &quot;fill&quot;: true, &quot;fillColor&quot;: &quot;red&quot;, &quot;fillOpacity&quot;: 0.5, &quot;fillRule&quot;: &quot;evenodd&quot;, &quot;lineCap&quot;: &quot;round&quot;, &quot;lineJoin&quot;: &quot;round&quot;, &quot;opacity&quot;: 1.0, &quot;radius&quot;: 100, &quot;stroke&quot;: true, &quot;weight&quot;: 1};\n            \n            let style = geo_json_f3657102568f7fb78aba70bdab41c6b8_styler(feature)\n            Object.assign(opts, style)\n            \n            return new L.circle(latlng, opts)\n        }\n\n        function geo_json_f3657102568f7fb78aba70bdab41c6b8_onEachFeature(feature, layer) {\n            layer.on({\n                mouseout: function(e) {\n                    if(typeof e.target.setStyle === &quot;function&quot;){\n                            geo_json_f3657102568f7fb78aba70bdab41c6b8.resetStyle(e.target);\n                    }\n                },\n                mouseover: function(e) {\n                    if(typeof e.target.setStyle === &quot;function&quot;){\n                        const highlightStyle = geo_json_f3657102568f7fb78aba70bdab41c6b8_highlighter(e.target.feature)\n                        e.target.setStyle(highlightStyle);\n                    }\n                },\n            });\n        };\n        var geo_json_f3657102568f7fb78aba70bdab41c6b8 = L.geoJson(null, {\n                onEachFeature: geo_json_f3657102568f7fb78aba70bdab41c6b8_onEachFeature,\n            \n                style: geo_json_f3657102568f7fb78aba70bdab41c6b8_styler,\n                pointToLayer: geo_json_f3657102568f7fb78aba70bdab41c6b8_pointToLayer,\n        });\n\n        function geo_json_f3657102568f7fb78aba70bdab41c6b8_add (data) {\n            geo_json_f3657102568f7fb78aba70bdab41c6b8\n                .addData(data);\n        }\n            geo_json_f3657102568f7fb78aba70bdab41c6b8_add({&quot;features&quot;: [{&quot;geometry&quot;: {&quot;coordinates&quot;: [[133.8459, -12.4988], [134.6376, -12.2855], [134.5508, -12.2702], [134.4555, -12.1738], [132.7161, -11.7896], [130.8304, -11.3783], [131.0703, -13.2474], [134.4644, -15.2634], [136.3849, -16.4105], [129.8294, -14.204], [132.7722, -11.7968], [132.0471, -12.8141], [133.2019, -15.4584], [134.5017, -12.5666], [131.5611, -12.7815], [130.7616, -13.1438], [130.9669, -13.3854], [135.6248, -15.4281], [136.3748, -16.4168], [136.4835, -16.3787], [132.9083, -14.5251], [135.9297, -12.369], [134.8458, -12.3911], [134.1492, -13.5487], [134.1705, -12.3465], [135.786, -11.94], [134.4662, -15.2665], [132.1368, -11.3645], [136.4115, -16.4398], [130.8107, -13.1664], [136.4405, -12.2986], [130.2782, -15.7377], [130.9911, -11.6856], [134.0553, -12.4971], [135.6233, -15.4582], [130.3015, -15.7261], [135.1706, -12.5746], [130.8284, -14.0695], [132.4378, -13.449], [130.8472, -13.1751], [130.6975, -13.2859], [130.7781, -14.0737], [134.4207, -12.1625], [130.9084, -13.0068], [130.8898, -13.1749], [130.7646, -13.2947], [132.2344, -11.2886], [136.5653, -16.2111], [130.7804, -13.2764], [135.5271, -14.3005], [134.1806, -13.8372], [130.7327, -14.1013], [132.1351, -11.3358], [136.5263, -16.383], [130.8641, -13.2451], [136.1785, -15.9955], [136.3864, -16.0331], [136.4978, -16.3651], [135.5389, -14.3002], [136.4156, -12.4294], [131.1035, -13.456], [130.7712, -13.9898], [130.7298, -14.1169], [134.7766, -12.2408], [135.7797, -11.9244], [130.7619, -11.648], [130.2646, -12.9968], [130.2809, -13.0259], [136.7954, -12.2163], [135.1898, -12.5851], [130.7136, -14.1131], [134.9381, -12.3075], [130.8021, -13.2605], [136.5852, -16.2021], [134.1813, -15.359], [130.6422, -13.7575], [130.7652, -13.246], [133.9842, -12.4656], [130.7146, -13.917], [136.2716, -15.9442], [132.8307, -11.636], [134.8389, -12.2752], [132.9473, -12.1907], [134.8004, -12.9464], [130.2828, -12.9646], [130.8492, -13.273], [130.3791, -13.5394], [130.8206, -13.9696], [130.7113, -14.138], [129.7891, -14.0709], [136.0832, -15.7334], [130.6996, -13.9131], [130.8251, -13.9879], [136.5762, -16.1674], [135.1729, -15.0477], [130.867, -13.2821], [134.794, -12.9164], [134.4209, -12.1422], [132.813, -11.6232], [130.9126, -11.5926], [130.8282, -13.2741], [136.4193, -12.3208], [135.0709, -12.3721], [133.9724, -12.4386], [135.6777, -12.0582], [130.7949, -13.9318], [131.119, -13.4675], [130.8277, -13.2826], [130.3394, -12.9678], [130.3473, -12.9852], [135.5474, -14.3323], [134.7624, -12.2435], [134.77, -12.9018], [136.0257, -15.7226], [131.2847, -12.669], [130.8964, -13.2848], [129.9388, -14.3492], [130.8344, -13.9745], [130.7202, -13.9136], [130.701, -13.7891], [130.0907, -13.6097], [131.1292, -12.3025], [130.7441, -11.6766], [130.9544, -13.2763], [132.2433, -11.3308], [133.336, -11.8126], [134.7198, -12.2002], [132.8397, -12.1274], [132.8705, -12.1964], [132.7958, -12.5997], [130.3203, -13.0203], [131.123, -13.4756], [130.6907, -13.8803], [129.9202, -14.0106], [129.8316, -14.0697], [129.9009, -14.1823], [136.054, -15.7561], [132.8085, -12.4272], [130.0609, -13.578], [136.5992, -12.3724], [133.9308, -12.497], [132.9056, -12.1285], [132.6445, -14.6734], [133.284, -11.823], [130.6453, -13.6873], [130.8264, -13.3971], [134.7021, -12.1588], [132.2286, -13.5795], [130.3813, -13.0024], [135.2746, -15.3803], [130.7958, -11.6494], [130.0965, -13.5486], [136.5604, -16.3992], [135.2072, -15.3847], [129.9062, -14.6326], [133.3206, -11.8427], [131.09, -12.4983], [129.8714, -14.1138], [129.8326, -14.0915], [130.6814, -13.8667], [130.1067, -13.6187]], &quot;type&quot;: &quot;MultiPoint&quot;}, &quot;id&quot;: &quot;0&quot;, &quot;type&quot;: &quot;Feature&quot;}], &quot;type&quot;: &quot;FeatureCollection&quot;});\n\n        \n    \n            geo_json_f3657102568f7fb78aba70bdab41c6b8.addTo(map_9527a2dd7f9c2ab65148266b2f20e491);\n        \n    \n        function geo_json_68b2620713329717b1f948761c80bae7_styler(feature) {\n            switch(feature.id) {\n                default:\n                    return {&quot;fillColor&quot;: &quot;orange&quot;, &quot;radius&quot;: 3000};\n            }\n        }\n        function geo_json_68b2620713329717b1f948761c80bae7_highlighter(feature) {\n            switch(feature.id) {\n                default:\n                    return {&quot;fillOpacity&quot;: 0.8};\n            }\n        }\n        function geo_json_68b2620713329717b1f948761c80bae7_pointToLayer(feature, latlng) {\n            var opts = {&quot;bubblingMouseEvents&quot;: true, &quot;color&quot;: &quot;black&quot;, &quot;dashArray&quot;: null, &quot;dashOffset&quot;: null, &quot;fill&quot;: true, &quot;fillColor&quot;: &quot;orange&quot;, &quot;fillOpacity&quot;: 0.5, &quot;fillRule&quot;: &quot;evenodd&quot;, &quot;lineCap&quot;: &quot;round&quot;, &quot;lineJoin&quot;: &quot;round&quot;, &quot;opacity&quot;: 1.0, &quot;radius&quot;: 100, &quot;stroke&quot;: true, &quot;weight&quot;: 1};\n            \n            let style = geo_json_68b2620713329717b1f948761c80bae7_styler(feature)\n            Object.assign(opts, style)\n            \n            return new L.circle(latlng, opts)\n        }\n\n        function geo_json_68b2620713329717b1f948761c80bae7_onEachFeature(feature, layer) {\n            layer.on({\n                mouseout: function(e) {\n                    if(typeof e.target.setStyle === &quot;function&quot;){\n                            geo_json_68b2620713329717b1f948761c80bae7.resetStyle(e.target);\n                    }\n                },\n                mouseover: function(e) {\n                    if(typeof e.target.setStyle === &quot;function&quot;){\n                        const highlightStyle = geo_json_68b2620713329717b1f948761c80bae7_highlighter(e.target.feature)\n                        e.target.setStyle(highlightStyle);\n                    }\n                },\n            });\n        };\n        var geo_json_68b2620713329717b1f948761c80bae7 = L.geoJson(null, {\n                onEachFeature: geo_json_68b2620713329717b1f948761c80bae7_onEachFeature,\n            \n                style: geo_json_68b2620713329717b1f948761c80bae7_styler,\n                pointToLayer: geo_json_68b2620713329717b1f948761c80bae7_pointToLayer,\n        });\n\n        function geo_json_68b2620713329717b1f948761c80bae7_add (data) {\n            geo_json_68b2620713329717b1f948761c80bae7\n                .addData(data);\n        }\n            geo_json_68b2620713329717b1f948761c80bae7_add({&quot;features&quot;: [{&quot;geometry&quot;: {&quot;coordinates&quot;: [[134.196302, -13.195839], [134.004862, -13.157678], [134.31921, -13.102028], [133.988489, -12.994351], [133.703639, -12.872519], [133.028132, -12.457881], [133.158132, -13.504417], [133.807449, -13.44908], [135.834537, -16.16665], [133.643516, -13.472392], [133.202707, -14.316227], [133.651541, -13.107325], [134.151934, -14.473933], [133.673351, -12.744478], [133.767501, -13.237195], [133.603181, -13.415754], [133.021259, -13.705224], [134.063182, -14.492823], [134.612006, -13.504788], [135.37652, -15.717938], [135.267497, -15.192478], [133.981487, -13.370437], [134.1194, -13.320246], [134.089706, -13.252388], [134.562278, -14.181088], [134.600371, -12.930865], [134.005271, -12.618949], [133.145202, -13.957909], [133.84251, -13.845589], [134.438995, -14.414359], [133.970029, -12.911624], [133.416772, -13.964629], [133.265329, -13.609665], [133.590649, -12.358454], [134.651663, -13.184163], [134.565733, -14.681221], [133.188084, -13.725698], [134.508105, -13.417335], [134.197052, -13.16752], [133.762662, -13.458686], [134.268833, -14.465434], [133.930165, -14.063344], [133.64233, -13.162873], [134.832767, -13.247541], [134.067675, -13.402933], [133.235988, -13.622865], [134.260501, -13.845892], [135.383599, -13.616022], [134.483539, -13.962185], [134.718979, -14.687884], [135.046608, -13.539253], [134.293457, -13.600937], [134.014254, -13.926364], [133.965047, -13.451398], [134.127567, -13.960481], [134.030891, -12.84369], [134.200131, -14.463501], [136.124578, -15.399295], [135.690472, -14.813769], [136.308768, -15.288137], [133.784781, -13.366304], [135.087001, -14.002107], [134.307056, -13.884481], [134.087162, -13.79323], [134.826529, -13.00977], [134.482029, -12.734737], [134.382891, -13.116096], [134.168751, -13.25238], [134.109059, -13.335209], [134.579254, -13.284365], [134.027042, -12.63152], [134.776489, -15.080978], [135.314332, -13.031561], [135.469968, -14.4862], [135.644986, -15.580348], [134.270461, -13.871139], [133.564261, -13.341275], [133.871704, -13.952766], [134.561383, -13.628767], [134.3736, -13.789141], [134.386607, -12.471099], [134.348201, -12.532332], [134.732552, -13.109774], [134.856228, -13.260298], [134.322563, -13.197772], [133.579741, -13.576412], [133.553137, -13.760287], [134.447517, -14.142963], [134.095397, -14.044533], [133.536592, -14.155561], [135.252601, -15.227316], [136.623082, -15.53403], [134.504637, -13.614627], [133.46284, -14.445189], [136.173993, -15.786958], [136.314845, -14.25286], [135.519692, -13.600625], [135.450238, -13.646242], [134.624646, -12.649121], [133.651553, -12.432466], [133.319286, -12.348818], [134.895154, -13.650366], [135.216923, -13.022738], [134.962627, -13.180795], [134.83056, -13.110521], [134.421851, -13.730341], [133.288011, -14.080251], [133.468055, -13.75324], [134.315879, -12.922809], [134.239157, -13.786408], [133.983316, -13.83635], [135.613483, -15.026509], [135.20901, -12.755596], [136.402033, -16.054795], [135.522729, -14.631386], [134.183857, -13.178609], [135.316148, -15.317971], [133.91121, -13.843117], [133.422478, -14.291804], [133.963704, -14.114789], [135.015404, -13.633986], [134.954722, -13.387434], [134.548463, -12.551605], [134.418817, -12.589296], [133.940483, -13.450292], [134.512952, -12.547888], [134.334838, -12.692143], [134.585826, -13.052161], [134.371388, -12.909418], [134.863465, -13.355125], [133.746126, -13.182025], [133.730477, -13.766145], [133.732833, -13.792569], [134.153222, -14.131934], [133.945901, -14.142591], [133.933121, -14.192876], [135.945397, -15.67279], [136.670068, -15.450006], [135.276308, -13.158415], [134.42247, -13.978984], [134.439576, -13.063712], [134.839467, -13.073042], [135.629069, -14.731283], [133.987112, -13.399508], [133.942258, -12.488995], [134.188532, -13.823044], [134.00269, -13.386929], [134.280609, -13.969562], [133.871122, -12.550514], [134.302132, -14.183955], [134.759964, -13.400227], [134.211323, -13.131138], [134.047451, -14.52643], [136.145523, -15.587853], [136.369886, -14.795803], [134.317348, -14.049745], [134.496976, -13.071943], [134.572769, -13.555684], [133.966594, -14.041206], [133.775902, -14.103184], [134.808379, -13.967434]], &quot;type&quot;: &quot;MultiPoint&quot;}, &quot;id&quot;: &quot;0&quot;, &quot;type&quot;: &quot;Feature&quot;}], &quot;type&quot;: &quot;FeatureCollection&quot;});\n\n        \n    \n            geo_json_68b2620713329717b1f948761c80bae7.addTo(map_9527a2dd7f9c2ab65148266b2f20e491);\n        \n&lt;/script&gt;\n&lt;/html&gt;\" style=\"position:absolute;width:100%;height:100%;left:0;top:0;border:none !important;\" allowfullscreen webkitallowfullscreen mozallowfullscreen></iframe></div></div>",
                        "text/plain": "<folium.folium.Map at 0x7f085079d540>"
                    },
                    "execution_count": 11,
                    "metadata": {},
                    "output_type": "execute_result"
                }
            ],
            "source": "m = folium.Map(\n    [-30.0, 140.0],\n    zoom_start=4,\n    tiles='OpenTopoMap'\n)\n\n# add training y markers to the map\nfolium.GeoJson(\n    train_y_markers,\n    name=\"Fire Pixels\",\n    marker=folium.Circle(radius=100, fill_color = 'blue', fill_opacity=0.5, color=\"black\", weight=1),\n    style_function=lambda x: {\n        \"fillColor\": 'blue',\n        'radius': 3000\n    },\n    highlight_function=lambda x: {\"fillOpacity\": 0.8}\n).add_to(m)\n\n# add training predicted markers to the map\nfolium.GeoJson(\n    train_p_markers,\n    name=\"Predicted Pixels\",\n    marker=folium.Circle(radius=100, fill_color = 'green', fill_opacity=0.5, color=\"black\", weight=1),\n    style_function=lambda x: {\n        \"fillColor\": 'green',\n        'radius': 3000\n    },\n    highlight_function=lambda x: {\"fillOpacity\": 0.8}\n).add_to(m)\n\n# add validation y markers to the map\nfolium.GeoJson(\n    valid_y_markers,\n    name=\"Fire Pixels\",\n    marker=folium.Circle(radius=100, fill_color = 'red', fill_opacity=0.5, color=\"black\", weight=1),\n    style_function=lambda x: {\n        \"fillColor\": 'red',\n        'radius': 3000\n    },\n    highlight_function=lambda x: {\"fillOpacity\": 0.8}\n).add_to(m)\n\n# add validation predicted markers to the map\nfolium.GeoJson(\n    valid_p_markers,\n    name=\"Predicted Pixels\",\n    marker=folium.Circle(radius=100, fill_color = 'orange', fill_opacity=0.5, color=\"black\", weight=1),\n    style_function=lambda x: {\n        \"fillColor\": 'orange',\n        'radius': 3000\n    },\n    highlight_function=lambda x: {\"fillOpacity\": 0.8}\n).add_to(m)\n\n\n# folium.GeoJson(rect).add_to(m)\nm"
        },
        {
            "cell_type": "code",
            "execution_count": 12,
            "id": "79ca5952",
            "metadata": {
                "trusted": true
            },
            "outputs": [],
            "source": "m.save('graphs/reduced_comparison.html')"
        },
        {
            "cell_type": "markdown",
            "id": "9d380b85",
            "metadata": {},
            "source": "## Compute stats for the predictions\n\nMean spatial & temporal distance: Compute average spatial & temporal distances between predictions and ground truth"
        },
        {
            "cell_type": "code",
            "execution_count": 13,
            "id": "3a034219",
            "metadata": {
                "trusted": true
            },
            "outputs": [
                {
                    "data": {
                        "text/plain": "0.5493281835413389"
                    },
                    "execution_count": 13,
                    "metadata": {},
                    "output_type": "execute_result"
                }
            ],
            "source": "def geo_dist(lat1, lon1, lat2, lon2):\n    # compute distance in km between 2 points\n    # https://andrew.hedges.name/experiments/haversine/\n    R = 6373 # approximate radius of the earth in kilometers\n\n    # get lat an lon diff in radians\n    dlon = math.radians(lon2 - lon1)\n    dlat = math.radians(lat2 - lat1)\n\n    a = (math.sin(dlat/2))**2 + math.cos(math.radians(lat1)) * math.cos(math.radians(lat2)) * (math.sin(dlon/2)**2)\n    c = 2 * math.atan2(math.sqrt(a), math.sqrt(1-a))\n    d = R * c\n    return d\n\n# test the formula\nlat1, lon1 = 38.898556, -77.037852\nlat2, lon2 = 38.897147, -77.043934\n\n# this should be 0.549\ngeo_dist(lat1, lon1, lat2, lon2)"
        },
        {
            "cell_type": "code",
            "execution_count": 14,
            "id": "d52e6e13",
            "metadata": {
                "trusted": true
            },
            "outputs": [
                {
                    "name": "stdout",
                    "output_type": "stream",
                    "text": "d_times.mean()=486571.7907528626\ndistances.mean()=99.19492057878864\n"
                }
            ],
            "source": "# average time difference\nd_times = (valid_y_frame['timestamp'] - valid_p_frame['timestamp']).abs()\n\n# average distance\ndistances = []\nfor i,_ in valid_y_frame.iterrows():\n    lat1 = valid_y_frame.loc[i, 'latitude']\n    lon1 = valid_y_frame.loc[i, 'longitude']\n\n    lat2 = valid_p_frame.loc[i, 'latitude']\n    lon2 = valid_p_frame.loc[i, 'longitude']\n\n    distances.append(geo_dist(lat1, lon2, lat2, lon2))\n\ndistances = pd.Series(distances)\nprint(f'{d_times.mean()=}\\n{distances.mean()=}')"
        },
        {
            "cell_type": "code",
            "execution_count": 15,
            "id": "c7d766b9",
            "metadata": {
                "trusted": true
            },
            "outputs": [
                {
                    "data": {
                        "text/plain": "1115.5403727190117"
                    },
                    "execution_count": 15,
                    "metadata": {},
                    "output_type": "execute_result"
                }
            ],
            "source": "# get the size of the geographical region that the dataset covers\nlat1 = bounds['latitude']['min']\nlat2 = bounds['latitude']['max']\n\nlon1 = bounds['longitude']['min']\nlon2 = bounds['longitude']['max']\n\ngeo_dist(lat1, lon1, lat2, lon2)"
        }
    ],
    "metadata": {
        "kernelspec": {
            "display_name": "Python 3 (ipykernel)",
            "language": "python",
            "name": "python3"
        },
        "language_info": {
            "codemirror_mode": {
                "name": "ipython",
                "version": 3
            },
            "file_extension": ".py",
            "mimetype": "text/x-python",
            "name": "python",
            "nbconvert_exporter": "python",
            "pygments_lexer": "ipython3",
            "version": "3.10.12"
        }
    },
    "nbformat": 4,
    "nbformat_minor": 5
}