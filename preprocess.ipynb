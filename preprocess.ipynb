{
    "cells": [
        {
            "cell_type": "code",
            "execution_count": 1,
            "id": "3533dc42",
            "metadata": {
                "trusted": true
            },
            "outputs": [],
            "source": "import json\nimport pandas as pd\nimport numpy as np\nimport os\n\nfrom sklearn.model_selection import train_test_split\n\nimport preproc"
        },
        {
            "cell_type": "code",
            "execution_count": 2,
            "id": "be92eea6",
            "metadata": {
                "trusted": true
            },
            "outputs": [],
            "source": "VALID_SIZE = 0.2\nTEST_SIZE = 0.2"
        },
        {
            "cell_type": "markdown",
            "id": "7fc7b0b8",
            "metadata": {},
            "source": "## Load the original data"
        },
        {
            "cell_type": "code",
            "execution_count": 3,
            "id": "41de73d2",
            "metadata": {
                "trusted": true
            },
            "outputs": [],
            "source": "infile_path = 'dataset/modis/fire_archive_M6_96619.csv'\ndataset_f = pd.read_csv(infile_path)\ndataset_f.drop(['bright_t31', 'daynight', 'confidence', 'frp', 'brightness'], axis=1, inplace=True)"
        },
        {
            "cell_type": "markdown",
            "id": "4a7eac67",
            "metadata": {},
            "source": "## Preprocess the dataset"
        },
        {
            "cell_type": "code",
            "execution_count": 4,
            "id": "890faac7",
            "metadata": {
                "trusted": true
            },
            "outputs": [
                {
                    "data": {
                        "text/html": "<div>\n<style scoped>\n    .dataframe tbody tr th:only-of-type {\n        vertical-align: middle;\n    }\n\n    .dataframe tbody tr th {\n        vertical-align: top;\n    }\n\n    .dataframe thead th {\n        text-align: right;\n    }\n</style>\n<table border=\"1\" class=\"dataframe\">\n  <thead>\n    <tr style=\"text-align: right;\">\n      <th></th>\n      <th>latitude</th>\n      <th>longitude</th>\n      <th>timestamp</th>\n    </tr>\n  </thead>\n  <tbody>\n    <tr>\n      <th>0</th>\n      <td>0.946944</td>\n      <td>0.709743</td>\n      <td>0.000000</td>\n    </tr>\n    <tr>\n      <th>1</th>\n      <td>0.947391</td>\n      <td>0.710421</td>\n      <td>0.000000</td>\n    </tr>\n    <tr>\n      <th>2</th>\n      <td>0.915351</td>\n      <td>0.476567</td>\n      <td>0.000011</td>\n    </tr>\n    <tr>\n      <th>3</th>\n      <td>0.866688</td>\n      <td>0.741358</td>\n      <td>0.000011</td>\n    </tr>\n    <tr>\n      <th>4</th>\n      <td>0.925889</td>\n      <td>0.441410</td>\n      <td>0.000011</td>\n    </tr>\n  </tbody>\n</table>\n</div>",
                        "text/plain": "   latitude  longitude  timestamp\n0  0.946944   0.709743   0.000000\n1  0.947391   0.710421   0.000000\n2  0.915351   0.476567   0.000011\n3  0.866688   0.741358   0.000011\n4  0.925889   0.441410   0.000011"
                    },
                    "execution_count": 4,
                    "metadata": {},
                    "output_type": "execute_result"
                }
            ],
            "source": "bounds = preproc.get_bounds(dataset_f)\n\ndataset_f = preproc.preprocess(dataset_f, bounds)\ndataset_f.head()"
        },
        {
            "cell_type": "code",
            "execution_count": 5,
            "id": "a414afba",
            "metadata": {
                "trusted": true
            },
            "outputs": [
                {
                    "data": {
                        "text/plain": "{'latitude': {'max': -10.0726, 'min': -42.7628},\n 'longitude': {'max': 153.4904, 'min': 114.1043},\n 'timestamp': {'max': 1569887100.0, 'min': 1564646160.0}}"
                    },
                    "execution_count": 5,
                    "metadata": {},
                    "output_type": "execute_result"
                }
            ],
            "source": "bounds"
        },
        {
            "cell_type": "markdown",
            "id": "436ebf6b",
            "metadata": {},
            "source": "## Arrange the dataset into sequences"
        },
        {
            "cell_type": "code",
            "execution_count": 6,
            "id": "1c787615",
            "metadata": {
                "trusted": true
            },
            "outputs": [
                {
                    "name": "stdout",
                    "output_type": "stream",
                    "text": "sequence_x.shape=(1892, 64, 3), sequence_y.shape=(1892, 3)\n"
                }
            ],
            "source": "dset_x, dset_y = preproc.xy_split(dataset_f)\nsequences = preproc.sequencify(dset_x, dset_y)"
        },
        {
            "cell_type": "code",
            "execution_count": 7,
            "id": "39fde75e",
            "metadata": {
                "trusted": true
            },
            "outputs": [
                {
                    "name": "stdout",
                    "output_type": "stream",
                    "text": "train.shape=(1135, 65, 3), valid.shape=(378, 65, 3), test.shape=(379, 65, 3)\n"
                }
            ],
            "source": "train, t2 = train_test_split(sequences, shuffle=False, test_size=(TEST_SIZE+VALID_SIZE))\nvalid, test = train_test_split(t2, shuffle=False, test_size =TEST_SIZE / (TEST_SIZE+VALID_SIZE))\n\nprint(f'{train.shape=}, {valid.shape=}, {test.shape=}')"
        },
        {
            "cell_type": "markdown",
            "id": "7e9bce3f",
            "metadata": {},
            "source": "## Write the preprocessed data to csv"
        },
        {
            "cell_type": "code",
            "execution_count": 8,
            "id": "683fa44e",
            "metadata": {
                "trusted": true
            },
            "outputs": [],
            "source": "root_dir = 'dataset/preprocessed'\nos.makedirs(root_dir, exist_ok=True)\n\n# training data\ntrain_path = os.path.join(root_dir, 'train')\nnp.save(train_path, train)\n\n# validation data\nvalid_path = os.path.join(root_dir, 'valid')\nnp.save(valid_path, valid)\n\n# test data\ntest_path = os.path.join(root_dir, 'test')\nnp.save(test_path, test)\n\n# bounds\nbounds_path = os.path.join(root_dir, 'bounds.json')\nwith open(bounds_path, mode='w') as file:\n    json.dump(bounds, file)"
        }
    ],
    "metadata": {
        "kernelspec": {
            "display_name": "Python 3 (ipykernel)",
            "language": "python",
            "name": "python3"
        },
        "language_info": {
            "codemirror_mode": {
                "name": "ipython",
                "version": 3
            },
            "file_extension": ".py",
            "mimetype": "text/x-python",
            "name": "python",
            "nbconvert_exporter": "python",
            "pygments_lexer": "ipython3",
            "version": "3.10.12"
        }
    },
    "nbformat": 4,
    "nbformat_minor": 5
}