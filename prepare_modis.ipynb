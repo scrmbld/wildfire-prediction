{
    "cells": [
        {
            "cell_type": "markdown",
            "id": "1d805323",
            "metadata": {},
            "source": "# Prepare MODIS data for ML\n1. Load in all the raw data\n2. Drop all of the columns we don't want\n3. Turn dates/times into unix timestamps\n3. Split into training, validation, and testing"
        },
        {
            "cell_type": "code",
            "execution_count": 1,
            "id": "e99cbba4",
            "metadata": {
                "trusted": true
            },
            "outputs": [],
            "source": "import os\nimport glob\n\nimport pandas as pd\nfrom sklearn.model_selection import train_test_split\n\nfrom datetime import datetime"
        },
        {
            "cell_type": "markdown",
            "id": "932a5f9e",
            "metadata": {},
            "source": "Load all of the files"
        },
        {
            "cell_type": "code",
            "execution_count": 2,
            "id": "bcdeb5aa",
            "metadata": {
                "trusted": true
            },
            "outputs": [],
            "source": "# get files\npath = 'dataset/raw_data/'\nall_files = glob.glob(os.path.join(path, '*M6*.csv'))"
        },
        {
            "cell_type": "code",
            "execution_count": 3,
            "id": "c02553bc",
            "metadata": {
                "trusted": true
            },
            "outputs": [
                {
                    "name": "stdout",
                    "output_type": "stream",
                    "text": "fire_archive_M6_96619\nfire_nrt_M6_96619\n"
                }
            ],
            "source": "# load files\ndataframes = {}\nfor file in all_files:\n    file_str = file.split('/')[-1].split('.')[0]\n    print(file_str)\n    dataframes[file_str] = pd.read_csv(file, dtype=str)"
        },
        {
            "cell_type": "markdown",
            "id": "768bf2b2",
            "metadata": {},
            "source": "## Take a look at the dataset\nWe will keep the latitude, longitude, acq_date, acq_time, instrument, confidence, bright_t31, brightness, frp, and daynight"
        },
        {
            "cell_type": "code",
            "execution_count": 4,
            "id": "a3991b43",
            "metadata": {
                "trusted": true
            },
            "outputs": [
                {
                    "name": "stdout",
                    "output_type": "stream",
                    "text": "fire_archive_M6_96619\n"
                },
                {
                    "data": {
                        "text/html": "<div>\n<style scoped>\n    .dataframe tbody tr th:only-of-type {\n        vertical-align: middle;\n    }\n\n    .dataframe tbody tr th {\n        vertical-align: top;\n    }\n\n    .dataframe thead th {\n        text-align: right;\n    }\n</style>\n<table border=\"1\" class=\"dataframe\">\n  <thead>\n    <tr style=\"text-align: right;\">\n      <th></th>\n      <th>latitude</th>\n      <th>longitude</th>\n      <th>brightness</th>\n      <th>acq_date</th>\n      <th>acq_time</th>\n      <th>confidence</th>\n      <th>bright_t31</th>\n      <th>frp</th>\n      <th>daynight</th>\n    </tr>\n  </thead>\n  <tbody>\n    <tr>\n      <th>0</th>\n      <td>-11.807</td>\n      <td>142.0583</td>\n      <td>313</td>\n      <td>2019-08-01</td>\n      <td>0056</td>\n      <td>48</td>\n      <td>297.3</td>\n      <td>6.6</td>\n      <td>D</td>\n    </tr>\n    <tr>\n      <th>1</th>\n      <td>-11.7924</td>\n      <td>142.085</td>\n      <td>319.3</td>\n      <td>2019-08-01</td>\n      <td>0056</td>\n      <td>71</td>\n      <td>297.3</td>\n      <td>11.3</td>\n      <td>D</td>\n    </tr>\n    <tr>\n      <th>2</th>\n      <td>-12.8398</td>\n      <td>132.8744</td>\n      <td>311.6</td>\n      <td>2019-08-01</td>\n      <td>0057</td>\n      <td>42</td>\n      <td>298.7</td>\n      <td>23.1</td>\n      <td>D</td>\n    </tr>\n    <tr>\n      <th>3</th>\n      <td>-14.4306</td>\n      <td>143.3035</td>\n      <td>310.1</td>\n      <td>2019-08-01</td>\n      <td>0057</td>\n      <td>33</td>\n      <td>296.1</td>\n      <td>6.5</td>\n      <td>D</td>\n    </tr>\n    <tr>\n      <th>4</th>\n      <td>-12.4953</td>\n      <td>131.4897</td>\n      <td>310.3</td>\n      <td>2019-08-01</td>\n      <td>0057</td>\n      <td>36</td>\n      <td>298.8</td>\n      <td>27.6</td>\n      <td>D</td>\n    </tr>\n    <tr>\n      <th>5</th>\n      <td>-12.6191</td>\n      <td>142.1998</td>\n      <td>314.8</td>\n      <td>2019-08-01</td>\n      <td>0057</td>\n      <td>68</td>\n      <td>297.6</td>\n      <td>9.3</td>\n      <td>D</td>\n    </tr>\n    <tr>\n      <th>6</th>\n      <td>-14.3655</td>\n      <td>143.5682</td>\n      <td>305.4</td>\n      <td>2019-08-01</td>\n      <td>0057</td>\n      <td>24</td>\n      <td>283.9</td>\n      <td>5.9</td>\n      <td>D</td>\n    </tr>\n    <tr>\n      <th>7</th>\n      <td>-14.3195</td>\n      <td>143.5198</td>\n      <td>322.9</td>\n      <td>2019-08-01</td>\n      <td>0057</td>\n      <td>79</td>\n      <td>290.9</td>\n      <td>20.4</td>\n      <td>D</td>\n    </tr>\n    <tr>\n      <th>8</th>\n      <td>-13.1654</td>\n      <td>141.9715</td>\n      <td>317.2</td>\n      <td>2019-08-01</td>\n      <td>0057</td>\n      <td>72</td>\n      <td>300</td>\n      <td>9.9</td>\n      <td>D</td>\n    </tr>\n    <tr>\n      <th>9</th>\n      <td>-11.5473</td>\n      <td>132.6796</td>\n      <td>311.5</td>\n      <td>2019-08-01</td>\n      <td>0057</td>\n      <td>40</td>\n      <td>298.7</td>\n      <td>27.3</td>\n      <td>D</td>\n    </tr>\n  </tbody>\n</table>\n</div>",
                        "text/plain": "   latitude longitude brightness    acq_date acq_time confidence bright_t31  \\\n0   -11.807  142.0583        313  2019-08-01     0056         48      297.3   \n1  -11.7924   142.085      319.3  2019-08-01     0056         71      297.3   \n2  -12.8398  132.8744      311.6  2019-08-01     0057         42      298.7   \n3  -14.4306  143.3035      310.1  2019-08-01     0057         33      296.1   \n4  -12.4953  131.4897      310.3  2019-08-01     0057         36      298.8   \n5  -12.6191  142.1998      314.8  2019-08-01     0057         68      297.6   \n6  -14.3655  143.5682      305.4  2019-08-01     0057         24      283.9   \n7  -14.3195  143.5198      322.9  2019-08-01     0057         79      290.9   \n8  -13.1654  141.9715      317.2  2019-08-01     0057         72        300   \n9  -11.5473  132.6796      311.5  2019-08-01     0057         40      298.7   \n\n    frp daynight  \n0   6.6        D  \n1  11.3        D  \n2  23.1        D  \n3   6.5        D  \n4  27.6        D  \n5   9.3        D  \n6   5.9        D  \n7  20.4        D  \n8   9.9        D  \n9  27.3        D  "
                    },
                    "metadata": {},
                    "output_type": "display_data"
                },
                {
                    "name": "stdout",
                    "output_type": "stream",
                    "text": "fire_nrt_M6_96619\n"
                },
                {
                    "data": {
                        "text/html": "<div>\n<style scoped>\n    .dataframe tbody tr th:only-of-type {\n        vertical-align: middle;\n    }\n\n    .dataframe tbody tr th {\n        vertical-align: top;\n    }\n\n    .dataframe thead th {\n        text-align: right;\n    }\n</style>\n<table border=\"1\" class=\"dataframe\">\n  <thead>\n    <tr style=\"text-align: right;\">\n      <th></th>\n      <th>latitude</th>\n      <th>longitude</th>\n      <th>brightness</th>\n      <th>acq_date</th>\n      <th>acq_time</th>\n      <th>confidence</th>\n      <th>bright_t31</th>\n      <th>frp</th>\n      <th>daynight</th>\n    </tr>\n  </thead>\n  <tbody>\n    <tr>\n      <th>0</th>\n      <td>-14.281</td>\n      <td>143.636</td>\n      <td>323.9</td>\n      <td>2019-10-01</td>\n      <td>0025</td>\n      <td>70</td>\n      <td>302.3</td>\n      <td>26.8</td>\n      <td>D</td>\n    </tr>\n    <tr>\n      <th>1</th>\n      <td>-14.284</td>\n      <td>143.532</td>\n      <td>343.5</td>\n      <td>2019-10-01</td>\n      <td>0025</td>\n      <td>90</td>\n      <td>306.3</td>\n      <td>84.3</td>\n      <td>D</td>\n    </tr>\n    <tr>\n      <th>2</th>\n      <td>-14.302</td>\n      <td>143.706</td>\n      <td>320.2</td>\n      <td>2019-10-01</td>\n      <td>0025</td>\n      <td>30</td>\n      <td>305</td>\n      <td>14.1</td>\n      <td>D</td>\n    </tr>\n    <tr>\n      <th>3</th>\n      <td>-14.283</td>\n      <td>143.652</td>\n      <td>320.4</td>\n      <td>2019-10-01</td>\n      <td>0025</td>\n      <td>57</td>\n      <td>303.3</td>\n      <td>18.4</td>\n      <td>D</td>\n    </tr>\n    <tr>\n      <th>4</th>\n      <td>-14.285</td>\n      <td>143.521</td>\n      <td>349.4</td>\n      <td>2019-10-01</td>\n      <td>0025</td>\n      <td>94</td>\n      <td>304.7</td>\n      <td>110.7</td>\n      <td>D</td>\n    </tr>\n    <tr>\n      <th>5</th>\n      <td>-14.273</td>\n      <td>143.589</td>\n      <td>328.1</td>\n      <td>2019-10-01</td>\n      <td>0025</td>\n      <td>62</td>\n      <td>304.6</td>\n      <td>32.4</td>\n      <td>D</td>\n    </tr>\n    <tr>\n      <th>6</th>\n      <td>-14.768</td>\n      <td>141.792</td>\n      <td>324.3</td>\n      <td>2019-10-01</td>\n      <td>0025</td>\n      <td>57</td>\n      <td>308.1</td>\n      <td>24</td>\n      <td>D</td>\n    </tr>\n    <tr>\n      <th>7</th>\n      <td>-14.304</td>\n      <td>143.512</td>\n      <td>338</td>\n      <td>2019-10-01</td>\n      <td>0025</td>\n      <td>86</td>\n      <td>304</td>\n      <td>66.1</td>\n      <td>D</td>\n    </tr>\n    <tr>\n      <th>8</th>\n      <td>-14.267</td>\n      <td>143.557</td>\n      <td>329.3</td>\n      <td>2019-10-01</td>\n      <td>0025</td>\n      <td>65</td>\n      <td>304.2</td>\n      <td>34.2</td>\n      <td>D</td>\n    </tr>\n    <tr>\n      <th>9</th>\n      <td>-14.307</td>\n      <td>143.528</td>\n      <td>331.1</td>\n      <td>2019-10-01</td>\n      <td>0025</td>\n      <td>70</td>\n      <td>305.2</td>\n      <td>40.8</td>\n      <td>D</td>\n    </tr>\n  </tbody>\n</table>\n</div>",
                        "text/plain": "  latitude longitude brightness    acq_date acq_time confidence bright_t31  \\\n0  -14.281   143.636      323.9  2019-10-01     0025         70      302.3   \n1  -14.284   143.532      343.5  2019-10-01     0025         90      306.3   \n2  -14.302   143.706      320.2  2019-10-01     0025         30        305   \n3  -14.283   143.652      320.4  2019-10-01     0025         57      303.3   \n4  -14.285   143.521      349.4  2019-10-01     0025         94      304.7   \n5  -14.273   143.589      328.1  2019-10-01     0025         62      304.6   \n6  -14.768   141.792      324.3  2019-10-01     0025         57      308.1   \n7  -14.304   143.512        338  2019-10-01     0025         86        304   \n8  -14.267   143.557      329.3  2019-10-01     0025         65      304.2   \n9  -14.307   143.528      331.1  2019-10-01     0025         70      305.2   \n\n     frp daynight  \n0   26.8        D  \n1   84.3        D  \n2   14.1        D  \n3   18.4        D  \n4  110.7        D  \n5   32.4        D  \n6     24        D  \n7   66.1        D  \n8   34.2        D  \n9   40.8        D  "
                    },
                    "metadata": {},
                    "output_type": "display_data"
                }
            ],
            "source": "to_keep = [\"latitude\", \"longitude\", \"acq_date\", \"acq_time\", \"confidence\", \"bright_t31\", \"brightness\", \"frp\", \"daynight\"]\n# drop all of the other columns\nfor k,v in dataframes.items():\n    cols = v.columns\n    to_drop = [c for c in cols if c not in to_keep]\n    v.drop(to_drop, inplace=True, axis=1)\n    print(k)\n    display(v.head(10))"
        },
        {
            "cell_type": "markdown",
            "id": "5df14979",
            "metadata": {},
            "source": "Convert dates/times into timestamps"
        },
        {
            "cell_type": "code",
            "execution_count": 5,
            "id": "ac25042d",
            "metadata": {
                "trusted": true
            },
            "outputs": [
                {
                    "data": {
                        "text/plain": "1569913200"
                    },
                    "execution_count": 5,
                    "metadata": {},
                    "output_type": "execute_result"
                }
            ],
            "source": "def time_to_secs(x):\n    hrs = int(x[:2])\n    mins = int(x[2:])\n    return hrs*3600 + mins*60\n\ndef date_to_secs(x):\n    return int(datetime.strptime(x, '%Y-%m-%d').timestamp())\n\n\ndate_to_secs('2019-10-01')"
        },
        {
            "cell_type": "markdown",
            "id": "325fb855",
            "metadata": {},
            "source": "## Drop any values outside of our geographical range"
        },
        {
            "cell_type": "code",
            "execution_count": 11,
            "id": "23814367",
            "metadata": {
                "trusted": true
            },
            "outputs": [],
            "source": "lon_min = 128.37519675220057\nlon_max = 138.06885989500768\nlat_min = -16.89612224844862\nlat_max = -10.803096222169515\n\nfor k,v in dataframes.items():\n    v = v[v['latitude'].astype(float) <= lat_max]\n    v = v[v['latitude'].astype(float) >= lat_min]\n    v = v[v['longitude'].astype(float) <= lon_max]\n    v = v[v['longitude'].astype(float) >= lon_min]\n\n    dataframes[k] = v"
        },
        {
            "cell_type": "markdown",
            "id": "d60b51a0",
            "metadata": {},
            "source": "## Compute timestamps from acq_data and acq_time"
        },
        {
            "cell_type": "code",
            "execution_count": 12,
            "id": "90e1fe48",
            "metadata": {
                "trusted": true
            },
            "outputs": [
                {
                    "name": "stdout",
                    "output_type": "stream",
                    "text": "['latitude', 'longitude', 'brightness', 'acq_date', 'acq_time', 'confidence', 'bright_t31', 'frp', 'daynight']\n"
                },
                {
                    "data": {
                        "text/html": "<div>\n<style scoped>\n    .dataframe tbody tr th:only-of-type {\n        vertical-align: middle;\n    }\n\n    .dataframe tbody tr th {\n        vertical-align: top;\n    }\n\n    .dataframe thead th {\n        text-align: right;\n    }\n</style>\n<table border=\"1\" class=\"dataframe\">\n  <thead>\n    <tr style=\"text-align: right;\">\n      <th></th>\n      <th>latitude</th>\n      <th>longitude</th>\n      <th>brightness</th>\n      <th>confidence</th>\n      <th>bright_t31</th>\n      <th>frp</th>\n      <th>daynight</th>\n      <th>timestamp</th>\n    </tr>\n  </thead>\n  <tbody>\n    <tr>\n      <th>2</th>\n      <td>-12.8398</td>\n      <td>132.8744</td>\n      <td>311.6</td>\n      <td>42</td>\n      <td>298.7</td>\n      <td>23.1</td>\n      <td>D</td>\n      <td>1564646220</td>\n    </tr>\n    <tr>\n      <th>4</th>\n      <td>-12.4953</td>\n      <td>131.4897</td>\n      <td>310.3</td>\n      <td>36</td>\n      <td>298.8</td>\n      <td>27.6</td>\n      <td>D</td>\n      <td>1564646220</td>\n    </tr>\n    <tr>\n      <th>9</th>\n      <td>-11.5473</td>\n      <td>132.6796</td>\n      <td>311.5</td>\n      <td>40</td>\n      <td>298.7</td>\n      <td>27.3</td>\n      <td>D</td>\n      <td>1564646220</td>\n    </tr>\n    <tr>\n      <th>10</th>\n      <td>-11.5417</td>\n      <td>132.649</td>\n      <td>312.2</td>\n      <td>42</td>\n      <td>298</td>\n      <td>31.4</td>\n      <td>D</td>\n      <td>1564646220</td>\n    </tr>\n    <tr>\n      <th>11</th>\n      <td>-11.5471</td>\n      <td>132.6538</td>\n      <td>316</td>\n      <td>65</td>\n      <td>298</td>\n      <td>52.7</td>\n      <td>D</td>\n      <td>1564646220</td>\n    </tr>\n    <tr>\n      <th>...</th>\n      <td>...</td>\n      <td>...</td>\n      <td>...</td>\n      <td>...</td>\n      <td>...</td>\n      <td>...</td>\n      <td>...</td>\n      <td>...</td>\n    </tr>\n    <tr>\n      <th>35986</th>\n      <td>-13.9292</td>\n      <td>132.9576</td>\n      <td>317.4</td>\n      <td>95</td>\n      <td>297</td>\n      <td>13.6</td>\n      <td>N</td>\n      <td>1569886800</td>\n    </tr>\n    <tr>\n      <th>35987</th>\n      <td>-13.9278</td>\n      <td>132.9481</td>\n      <td>315.3</td>\n      <td>91</td>\n      <td>297.9</td>\n      <td>11.6</td>\n      <td>N</td>\n      <td>1569886800</td>\n    </tr>\n    <tr>\n      <th>35988</th>\n      <td>-13.92</td>\n      <td>132.959</td>\n      <td>322</td>\n      <td>100</td>\n      <td>298.2</td>\n      <td>18</td>\n      <td>N</td>\n      <td>1569886800</td>\n    </tr>\n    <tr>\n      <th>35989</th>\n      <td>-13.9187</td>\n      <td>132.9494</td>\n      <td>310.6</td>\n      <td>80</td>\n      <td>297.6</td>\n      <td>7.3</td>\n      <td>N</td>\n      <td>1569886800</td>\n    </tr>\n    <tr>\n      <th>35990</th>\n      <td>-13.8794</td>\n      <td>132.9358</td>\n      <td>311.8</td>\n      <td>82</td>\n      <td>295.6</td>\n      <td>9.1</td>\n      <td>N</td>\n      <td>1569886800</td>\n    </tr>\n  </tbody>\n</table>\n<p>15390 rows \u00d7 8 columns</p>\n</div>",
                        "text/plain": "       latitude longitude brightness confidence bright_t31   frp daynight  \\\n2      -12.8398  132.8744      311.6         42      298.7  23.1        D   \n4      -12.4953  131.4897      310.3         36      298.8  27.6        D   \n9      -11.5473  132.6796      311.5         40      298.7  27.3        D   \n10     -11.5417   132.649      312.2         42        298  31.4        D   \n11     -11.5471  132.6538        316         65        298  52.7        D   \n...         ...       ...        ...        ...        ...   ...      ...   \n35986  -13.9292  132.9576      317.4         95        297  13.6        N   \n35987  -13.9278  132.9481      315.3         91      297.9  11.6        N   \n35988    -13.92   132.959        322        100      298.2    18        N   \n35989  -13.9187  132.9494      310.6         80      297.6   7.3        N   \n35990  -13.8794  132.9358      311.8         82      295.6   9.1        N   \n\n        timestamp  \n2      1564646220  \n4      1564646220  \n9      1564646220  \n10     1564646220  \n11     1564646220  \n...           ...  \n35986  1569886800  \n35987  1569886800  \n35988  1569886800  \n35989  1569886800  \n35990  1569886800  \n\n[15390 rows x 8 columns]"
                    },
                    "metadata": {},
                    "output_type": "display_data"
                },
                {
                    "name": "stdout",
                    "output_type": "stream",
                    "text": "['latitude', 'longitude', 'brightness', 'acq_date', 'acq_time', 'confidence', 'bright_t31', 'frp', 'daynight']\n"
                },
                {
                    "data": {
                        "text/html": "<div>\n<style scoped>\n    .dataframe tbody tr th:only-of-type {\n        vertical-align: middle;\n    }\n\n    .dataframe tbody tr th {\n        vertical-align: top;\n    }\n\n    .dataframe thead th {\n        text-align: right;\n    }\n</style>\n<table border=\"1\" class=\"dataframe\">\n  <thead>\n    <tr style=\"text-align: right;\">\n      <th></th>\n      <th>latitude</th>\n      <th>longitude</th>\n      <th>brightness</th>\n      <th>confidence</th>\n      <th>bright_t31</th>\n      <th>frp</th>\n      <th>daynight</th>\n      <th>timestamp</th>\n    </tr>\n  </thead>\n  <tbody>\n    <tr>\n      <th>111</th>\n      <td>-12.987</td>\n      <td>132.578</td>\n      <td>335.6</td>\n      <td>81</td>\n      <td>304.4</td>\n      <td>103.3</td>\n      <td>D</td>\n      <td>1569920400</td>\n    </tr>\n    <tr>\n      <th>112</th>\n      <td>-12.07</td>\n      <td>134.281</td>\n      <td>321.1</td>\n      <td>56</td>\n      <td>298.3</td>\n      <td>69.9</td>\n      <td>D</td>\n      <td>1569920400</td>\n    </tr>\n    <tr>\n      <th>113</th>\n      <td>-12.059</td>\n      <td>134.276</td>\n      <td>319.2</td>\n      <td>20</td>\n      <td>298.3</td>\n      <td>55.6</td>\n      <td>D</td>\n      <td>1569920400</td>\n    </tr>\n    <tr>\n      <th>114</th>\n      <td>-12.983</td>\n      <td>132.544</td>\n      <td>324.1</td>\n      <td>47</td>\n      <td>301.8</td>\n      <td>34.3</td>\n      <td>D</td>\n      <td>1569920400</td>\n    </tr>\n    <tr>\n      <th>115</th>\n      <td>-12.465</td>\n      <td>132.504</td>\n      <td>330.1</td>\n      <td>76</td>\n      <td>304.6</td>\n      <td>58.5</td>\n      <td>D</td>\n      <td>1569920400</td>\n    </tr>\n    <tr>\n      <th>...</th>\n      <td>...</td>\n      <td>...</td>\n      <td>...</td>\n      <td>...</td>\n      <td>...</td>\n      <td>...</td>\n      <td>...</td>\n      <td>...</td>\n    </tr>\n    <tr>\n      <th>183226</th>\n      <td>-16.774</td>\n      <td>137.45</td>\n      <td>333.1</td>\n      <td>72</td>\n      <td>299.8</td>\n      <td>41.7</td>\n      <td>D</td>\n      <td>1578744900</td>\n    </tr>\n    <tr>\n      <th>183227</th>\n      <td>-16.775</td>\n      <td>137.443</td>\n      <td>327.4</td>\n      <td>48</td>\n      <td>297.6</td>\n      <td>25.2</td>\n      <td>D</td>\n      <td>1578744900</td>\n    </tr>\n    <tr>\n      <th>183228</th>\n      <td>-16.741</td>\n      <td>137.438</td>\n      <td>329.8</td>\n      <td>54</td>\n      <td>300.7</td>\n      <td>27.6</td>\n      <td>D</td>\n      <td>1578744900</td>\n    </tr>\n    <tr>\n      <th>183589</th>\n      <td>-16.708</td>\n      <td>129.646</td>\n      <td>300.5</td>\n      <td>16</td>\n      <td>280.8</td>\n      <td>2.9</td>\n      <td>N</td>\n      <td>1578789900</td>\n    </tr>\n    <tr>\n      <th>183590</th>\n      <td>-16.747</td>\n      <td>129.653</td>\n      <td>301.8</td>\n      <td>23</td>\n      <td>277.9</td>\n      <td>3.7</td>\n      <td>N</td>\n      <td>1578789900</td>\n    </tr>\n  </tbody>\n</table>\n<p>19423 rows \u00d7 8 columns</p>\n</div>",
                        "text/plain": "       latitude longitude brightness confidence bright_t31    frp daynight  \\\n111     -12.987   132.578      335.6         81      304.4  103.3        D   \n112      -12.07   134.281      321.1         56      298.3   69.9        D   \n113     -12.059   134.276      319.2         20      298.3   55.6        D   \n114     -12.983   132.544      324.1         47      301.8   34.3        D   \n115     -12.465   132.504      330.1         76      304.6   58.5        D   \n...         ...       ...        ...        ...        ...    ...      ...   \n183226  -16.774    137.45      333.1         72      299.8   41.7        D   \n183227  -16.775   137.443      327.4         48      297.6   25.2        D   \n183228  -16.741   137.438      329.8         54      300.7   27.6        D   \n183589  -16.708   129.646      300.5         16      280.8    2.9        N   \n183590  -16.747   129.653      301.8         23      277.9    3.7        N   \n\n         timestamp  \n111     1569920400  \n112     1569920400  \n113     1569920400  \n114     1569920400  \n115     1569920400  \n...            ...  \n183226  1578744900  \n183227  1578744900  \n183228  1578744900  \n183589  1578789900  \n183590  1578789900  \n\n[19423 rows x 8 columns]"
                    },
                    "metadata": {},
                    "output_type": "display_data"
                }
            ],
            "source": "out_frames = {}\nfor k,v in dataframes.items():\n    print(list(v.columns))\n    secs = v['acq_time'].apply(time_to_secs)\n    bases = v['acq_date'].apply(date_to_secs)\n    ts = pd.Series(data=secs+bases, name='timestamp')\n    timestamped = pd.concat([v, ts], axis=1)\n    timestamped.drop(['acq_date', 'acq_time'], inplace=True, axis=1)\n    out_frames[k] = timestamped\n    display(timestamped)"
        },
        {
            "cell_type": "markdown",
            "id": "715a6e2f",
            "metadata": {},
            "source": "## Write the data"
        },
        {
            "cell_type": "code",
            "execution_count": 13,
            "id": "676bd7da",
            "metadata": {
                "trusted": true
            },
            "outputs": [
                {
                    "name": "stdout",
                    "output_type": "stream",
                    "text": "dataset/modis_reduced/fire_archive_M6_96619.csv\ndataset/modis_reduced/fire_nrt_M6_96619.csv\n"
                }
            ],
            "source": "out_dir = 'dataset/modis_reduced'\nos.makedirs(out_dir, exist_ok=True)\nfor k,v in out_frames.items():\n    path = os.path.join(out_dir, k+'.csv')\n    print(path)\n    v.to_csv(path, index=False)"
        }
    ],
    "metadata": {
        "kernelspec": {
            "display_name": "Python 3 (ipykernel)",
            "language": "python",
            "name": "python3"
        },
        "language_info": {
            "codemirror_mode": {
                "name": "ipython",
                "version": 3
            },
            "file_extension": ".py",
            "mimetype": "text/x-python",
            "name": "python",
            "nbconvert_exporter": "python",
            "pygments_lexer": "ipython3",
            "version": "3.10.12"
        }
    },
    "nbformat": 4,
    "nbformat_minor": 5
}