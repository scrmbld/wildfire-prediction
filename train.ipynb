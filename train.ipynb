{
    "cells": [
        {
            "cell_type": "markdown",
            "id": "091acb65",
            "metadata": {},
            "source": "# Building the model"
        },
        {
            "cell_type": "code",
            "execution_count": 1,
            "id": "104d953d",
            "metadata": {
                "trusted": true
            },
            "outputs": [],
            "source": "import os\nimport json\n\nimport numpy as np\nimport pandas as pd\n\nimport torch\nimport torch.nn as nn\nfrom torch.utils.data import TensorDataset, DataLoader\nfrom torch.optim.lr_scheduler import StepLR\n\nimport preproc"
        },
        {
            "cell_type": "code",
            "execution_count": 2,
            "id": "610c1264",
            "metadata": {
                "trusted": true
            },
            "outputs": [],
            "source": "N_EPOCHS = 200\nBATCH_SIZE = 64\n\ncols = ['latitude', 'longitude', 'timestamp']"
        },
        {
            "cell_type": "markdown",
            "id": "d5763485",
            "metadata": {},
            "source": "## Load the dataset"
        },
        {
            "cell_type": "code",
            "execution_count": 3,
            "id": "fbc4b87e",
            "metadata": {
                "trusted": true
            },
            "outputs": [],
            "source": "data_dir = 'dataset/reduced_preprocessed'\ntrain = np.load(os.path.join(data_dir, 'train.npy'))\nvalid = np.load(os.path.join(data_dir, 'valid.npy'))\ntest = np.load(os.path.join(data_dir, 'test.npy'))\n\nbounds = {}\nbounds_path = os.path.join(data_dir, 'bounds.json')\nwith open(bounds_path) as file:\n    bounds = json.load(file)"
        },
        {
            "cell_type": "markdown",
            "id": "6e4d05ec",
            "metadata": {},
            "source": "# Create the model"
        },
        {
            "cell_type": "code",
            "execution_count": 4,
            "id": "961e2fb7",
            "metadata": {
                "trusted": true
            },
            "outputs": [],
            "source": "device = torch.device('cuda' if torch.cuda.is_available() else 'cpu')\n\nevent_vec_dim = train.shape[-1]\nseq_len = preproc.WINDOW_SIZE\nhidden_dim = 1024\nnum_layers = 4"
        },
        {
            "cell_type": "code",
            "execution_count": 5,
            "id": "cc3cccdb",
            "metadata": {
                "trusted": true
            },
            "outputs": [],
            "source": "from lstm_model import FirePredictor\n\n# create the model\nmodel = FirePredictor(event_vec_dim, seq_len, hidden_dim, num_layers)"
        },
        {
            "cell_type": "code",
            "execution_count": 6,
            "id": "bfca5961",
            "metadata": {
                "trusted": true
            },
            "outputs": [
                {
                    "data": {
                        "image/png": "[encoded data removed]",
                        "text/plain": "<graphviz.graphs.Digraph at 0x7f8ba8e1ac20>"
                    },
                    "execution_count": 6,
                    "metadata": {},
                    "output_type": "execute_result"
                }
            ],
            "source": "# visualize model structure\n# This uses torchview, which is a library outside of pytorch for visualizing torch.nn.Modules\n# https://github.com/mert-kurttutan/torchview\nimport graphviz\ngraphviz.set_jupyter_format('png')\n\nfrom torchview import draw_graph\nmodel_graph = draw_graph(model, input_size=(BATCH_SIZE, seq_len, event_vec_dim), device='cuda')\nmodel_graph.visual_graph"
        },
        {
            "cell_type": "markdown",
            "id": "12583591",
            "metadata": {},
            "source": "## Write the loss function"
        },
        {
            "cell_type": "code",
            "execution_count": 7,
            "id": "272ed8ed",
            "metadata": {
                "trusted": true
            },
            "outputs": [],
            "source": "# def euclidean_dist(t1, t2, dim):\n#     return (t1 - t2).pow(2).sum(dim).sqrt()\n#\n# def avg_distance(x, y):\n#     if x.isnan().any():\n#         print(x)\n#         raise RuntimeError(\"Loss func: x contains NAN\")\n#     # use nearest neighbor upsampling\n#     reshaped = torch.nn.functional.interpolate(x[:,:,None,:], size=y.shape[2:], mode='nearest')\n#     if reshaped.isnan().any():\n#         print(reshaped)\n#         raise RuntimeError(\"Loss func: reshaped x contains NAN\")\n#     result = (euclidean_dist(reshaped, y, dim=2)).sum() / np.array(y.shape[0:-1]).prod()\n#     if result.isnan().any():\n#         print(result)\n#         raise RuntimeError(\"Loss func: result contains NAN\")\n#     return result\n#\n#\n# x = torch.Tensor(sequences[0:3,0:64,0,:])\n# y = torch.Tensor(sequences[0:3,0:64,1:,:])\n#\n# print(avg_distance(torch.Tensor(x), torch.Tensor(y)))\n# print(f'{x.shape=}, {y.shape=}')"
        },
        {
            "cell_type": "markdown",
            "id": "e3c92a61",
            "metadata": {},
            "source": "## Prepare Optimizer, Scheduler, and Data Loader"
        },
        {
            "cell_type": "code",
            "execution_count": 8,
            "id": "8bf76f6d",
            "metadata": {
                "trusted": true
            },
            "outputs": [],
            "source": "# split train & validation data into inputs and labels\nx_train = torch.Tensor(train[:,:preproc.WINDOW_SIZE,:])\ny_train = torch.Tensor(train[:,preproc.WINDOW_SIZE,:])\n\nx_valid = torch.Tensor(valid[:,:preproc.WINDOW_SIZE,:]).to(device)\ny_valid = torch.Tensor(valid[:,preproc.WINDOW_SIZE,:]).to(device)"
        },
        {
            "cell_type": "code",
            "execution_count": 9,
            "id": "66be9c99",
            "metadata": {
                "trusted": true
            },
            "outputs": [
                {
                    "name": "stdout",
                    "output_type": "stream",
                    "text": "x_valid.shape=torch.Size([161, 64, 3]), torch.Size([161, 3])\n"
                }
            ],
            "source": "print(f'{x_valid.shape=}, {y_valid.shape}')"
        },
        {
            "cell_type": "code",
            "execution_count": 10,
            "id": "b845373a",
            "metadata": {
                "trusted": true
            },
            "outputs": [
                {
                    "name": "stderr",
                    "output_type": "stream",
                    "text": "/home/cynthia/.local/lib/python3.10/site-packages/onnxscript/converter.py:820: FutureWarning: 'onnxscript.values.Op.param_schemas' is deprecated in version 0.1 and will be removed in the future. Please use '.op_signature' instead.\n  param_schemas = callee.param_schemas()\n/home/cynthia/.local/lib/python3.10/site-packages/onnxscript/converter.py:820: FutureWarning: 'onnxscript.values.OnnxFunction.param_schemas' is deprecated in version 0.1 and will be removed in the future. Please use '.op_signature' instead.\n  param_schemas = callee.param_schemas()\n"
                }
            ],
            "source": "optimizer = torch.optim.SGD(model.parameters(), lr=0.03, momentum=0.9)\n\nscheduler = StepLR(optimizer, step_size=10, gamma=0.5)\n\ndata_loader = DataLoader(TensorDataset(x_train, y_train), batch_size=BATCH_SIZE, shuffle=True)\n\nloss_function = nn.MSELoss()"
        },
        {
            "cell_type": "markdown",
            "id": "86a2ef20",
            "metadata": {},
            "source": "## Training Loop"
        },
        {
            "cell_type": "code",
            "execution_count": 11,
            "id": "c89cf501",
            "metadata": {
                "trusted": true
            },
            "outputs": [
                {
                    "name": "stdout",
                    "output_type": "stream",
                    "text": "Epoch 0 -- train loss: 0.11224173754453659 valid loss: 0.09747140854597092\nEpoch 1 -- train loss: 0.07946192473173141 valid loss: 0.1069600060582161\nEpoch 2 -- train loss: 0.0651983916759491 valid loss: 0.10778030008077621\nEpoch 3 -- train loss: 0.06341518461704254 valid loss: 0.10091683268547058\nEpoch 4 -- train loss: 0.059681300073862076 valid loss: 0.1030145213007927\nEpoch 5 -- train loss: 0.06003124639391899 valid loss: 0.10278930515050888\nEpoch 6 -- train loss: 0.059681788086891174 valid loss: 0.09912153333425522\nEpoch 7 -- train loss: 0.05861954391002655 valid loss: 0.10689041018486023\nEpoch 8 -- train loss: 0.05932401493191719 valid loss: 0.09961399435997009\nEpoch 9 -- train loss: 0.05851781368255615 valid loss: 0.10497324168682098\nEpoch 10 -- train loss: 0.059649787843227386 valid loss: 0.09907220304012299\nEpoch 11 -- train loss: 0.059899527579545975 valid loss: 0.10633406788110733\nEpoch 12 -- train loss: 0.05883870646357536 valid loss: 0.10172692686319351\nEpoch 13 -- train loss: 0.05919462442398071 valid loss: 0.10140611976385117\nEpoch 14 -- train loss: 0.05988087132573128 valid loss: 0.10171381384134293\nEpoch 15 -- train loss: 0.05900752916932106 valid loss: 0.10386732220649719\nEpoch 16 -- train loss: 0.058641526848077774 valid loss: 0.09871158748865128\nEpoch 17 -- train loss: 0.0596001110970974 valid loss: 0.10480285435914993\nEpoch 18 -- train loss: 0.05900391563773155 valid loss: 0.1003931537270546\nEpoch 19 -- train loss: 0.05978540703654289 valid loss: 0.10265225917100906\nEpoch 20 -- train loss: 0.05945883318781853 valid loss: 0.10166913270950317\nEpoch 21 -- train loss: 0.05900878831744194 valid loss: 0.1041104793548584\n"
                },
                {
                    "ename": "KeyboardInterrupt",
                    "evalue": "",
                    "output_type": "error",
                    "traceback": [
                        "\u001b[0;31m---------------------------------------------------------------------------\u001b[0m",
                        "\u001b[0;31mKeyboardInterrupt\u001b[0m                         Traceback (most recent call last)",
                        "Cell \u001b[0;32mIn[11], line 10\u001b[0m\n\u001b[1;32m      7\u001b[0m \u001b[38;5;28;01mfor\u001b[39;00m i, data \u001b[38;5;129;01min\u001b[39;00m \u001b[38;5;28menumerate\u001b[39m(data_loader):\n\u001b[1;32m      9\u001b[0m     x_batch, y_batch \u001b[38;5;241m=\u001b[39m data\n\u001b[0;32m---> 10\u001b[0m     x_batch \u001b[38;5;241m=\u001b[39m \u001b[43mx_batch\u001b[49m\u001b[38;5;241;43m.\u001b[39;49m\u001b[43mto\u001b[49m\u001b[43m(\u001b[49m\u001b[43mdevice\u001b[49m\u001b[43m)\u001b[49m\n\u001b[1;32m     11\u001b[0m     y_batch \u001b[38;5;241m=\u001b[39m y_batch\u001b[38;5;241m.\u001b[39mto(device)\n\u001b[1;32m     13\u001b[0m     optimizer\u001b[38;5;241m.\u001b[39mzero_grad()\n",
                        "\u001b[0;31mKeyboardInterrupt\u001b[0m: "
                    ]
                }
            ],
            "source": "losses_valid = np.zeros(N_EPOCHS)\nlosses_train = np.zeros(N_EPOCHS)\n\nfor epoch in range(N_EPOCHS):\n    # loop over batches\n    acc_train_loss = 0.0\n    for i, data in enumerate(data_loader):\n\n        x_batch, y_batch = data\n        x_batch = x_batch.to(device)\n        y_batch = y_batch.to(device)\n\n        optimizer.zero_grad()\n\n        preds = model(x_batch)\n\n        loss = loss_function(preds, y_batch)\n        acc_train_loss += loss\n        loss.backward()\n\n        optimizer.step()\n\n    # record average loss of all batches in this epoch\n    losses_train[epoch] = acc_train_loss / (x_train.shape[0]/BATCH_SIZE)\n\n    # compute validation loss\n    model.eval()\n    with torch.no_grad():\n        v_preds = model(x_valid)\n        losses_valid[epoch] = loss_function(v_preds, y_valid).item()\n    model.train()\n\n    # print out the losses so we can see it update as we train\n    print(f'Epoch {epoch} -- train loss: {losses_train[epoch]} valid loss: {losses_valid[epoch]}')"
        },
        {
            "cell_type": "code",
            "execution_count": null,
            "id": "36c8dade",
            "metadata": {
                "trusted": true
            },
            "outputs": [],
            "source": "model(x_train[0][None, :, :].to(device))"
        },
        {
            "cell_type": "markdown",
            "id": "ad0ec300",
            "metadata": {},
            "source": "## Analyze the results"
        },
        {
            "cell_type": "code",
            "execution_count": null,
            "id": "6ca91ee4",
            "metadata": {
                "trusted": true
            },
            "outputs": [],
            "source": "import matplotlib.pyplot as plt\nplt.plot(losses_train, label='train loss')\nplt.plot(losses_valid, label='validation loss', color='r')\nplt.legend()\n\nplt.show()"
        },
        {
            "cell_type": "code",
            "execution_count": null,
            "id": "9e9e298c",
            "metadata": {
                "trusted": true
            },
            "outputs": [],
            "source": "model.eval()\nwith torch.no_grad():\n    res = model(x_train[0:128].to(device)).cpu().detach()\n    res = pd.DataFrame(res, columns=cols)\n\nprediction = preproc.unprocess(res, bounds)\nactual = preproc.unprocess(pd.DataFrame(y_train[0:128].numpy(), columns=cols), bounds)\n\ndisplay(prediction)\ndisplay(actual)"
        },
        {
            "cell_type": "code",
            "execution_count": null,
            "id": "ec6c0e4c",
            "metadata": {
                "trusted": true
            },
            "outputs": [],
            "source": "display(prediction.sort_values('timestamp'))\ndisplay(actual.sort_values('timestamp'))"
        },
        {
            "cell_type": "code",
            "execution_count": null,
            "id": "43bea9a6",
            "metadata": {
                "trusted": true
            },
            "outputs": [],
            "source": "display(prediction.std(axis=0))\ndisplay(actual.std(axis=0))"
        },
        {
            "cell_type": "markdown",
            "id": "da63f8bd",
            "metadata": {},
            "source": "# Save the model's state_dict to a JSON file to evaluate later"
        },
        {
            "cell_type": "code",
            "execution_count": null,
            "id": "b471b7b9",
            "metadata": {
                "trusted": true
            },
            "outputs": [],
            "source": "model_path = \"models/reduced_lstm.json\"\nmodel.to_json(model_path)"
        },
        {
            "cell_type": "code",
            "execution_count": null,
            "id": "a48bc9a6",
            "metadata": {
                "trusted": true
            },
            "outputs": [],
            "source": "# load the model, just to be sure that we can\nmodel.from_json(model_path)"
        },
        {
            "cell_type": "code",
            "execution_count": null,
            "id": "32de1c61",
            "metadata": {
                "trusted": true
            },
            "outputs": [],
            "source": "model.eval()\nwith torch.no_grad():\n    res = model(x_train[0:128].to(device)).cpu().detach()\n    res = pd.DataFrame(res, columns=cols)\n\npred2 = preproc.unprocess(res, bounds)"
        },
        {
            "cell_type": "code",
            "execution_count": null,
            "id": "0031d154",
            "metadata": {
                "trusted": true
            },
            "outputs": [],
            "source": "display(prediction.sort_values('timestamp'))\ndisplay(pred2.sort_values('timestamp'))"
        }
    ],
    "metadata": {
        "kernelspec": {
            "display_name": "Python 3 (ipykernel)",
            "language": "python",
            "name": "python3"
        },
        "language_info": {
            "codemirror_mode": {
                "name": "ipython",
                "version": 3
            },
            "file_extension": ".py",
            "mimetype": "text/x-python",
            "name": "python",
            "nbconvert_exporter": "python",
            "pygments_lexer": "ipython3",
            "version": "3.10.12"
        }
    },
    "nbformat": 4,
    "nbformat_minor": 5
}