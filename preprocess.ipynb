{
    "cells": [
        {
            "cell_type": "code",
            "execution_count": 1,
            "id": "d62cd319",
            "metadata": {
                "trusted": true
            },
            "outputs": [],
            "source": "import json\nimport pandas as pd\nimport numpy as np\nimport os\n\nfrom sklearn.model_selection import train_test_split\n\nimport preproc"
        },
        {
            "cell_type": "code",
            "execution_count": 2,
            "id": "11718599",
            "metadata": {
                "trusted": true
            },
            "outputs": [],
            "source": "VALID_SIZE = 0.2\nTEST_SIZE = 0.2"
        },
        {
            "cell_type": "markdown",
            "id": "8f4f8708",
            "metadata": {},
            "source": "## Load the original data"
        },
        {
            "cell_type": "code",
            "execution_count": 3,
            "id": "2b9f430e",
            "metadata": {
                "trusted": true
            },
            "outputs": [],
            "source": "infile_path = 'dataset/modis_reduced/fire_archive_M6_96619.csv'\ndataset_f = pd.read_csv(infile_path)\ndataset_f.drop(['bright_t31', 'daynight', 'confidence', 'frp', 'brightness'], axis=1, inplace=True)"
        },
        {
            "cell_type": "markdown",
            "id": "4c070df7",
            "metadata": {},
            "source": "## Preprocess the dataset"
        },
        {
            "cell_type": "code",
            "execution_count": 4,
            "id": "58f626e1",
            "metadata": {
                "trusted": true
            },
            "outputs": [
                {
                    "data": {
                        "text/html": "<div>\n<style scoped>\n    .dataframe tbody tr th:only-of-type {\n        vertical-align: middle;\n    }\n\n    .dataframe tbody tr th {\n        vertical-align: top;\n    }\n\n    .dataframe thead th {\n        text-align: right;\n    }\n</style>\n<table border=\"1\" class=\"dataframe\">\n  <thead>\n    <tr style=\"text-align: right;\">\n      <th></th>\n      <th>latitude</th>\n      <th>longitude</th>\n      <th>timestamp</th>\n    </tr>\n  </thead>\n  <tbody>\n    <tr>\n      <th>0</th>\n      <td>0.686746</td>\n      <td>0.502595</td>\n      <td>0.0</td>\n    </tr>\n    <tr>\n      <th>1</th>\n      <td>0.746756</td>\n      <td>0.339244</td>\n      <td>0.0</td>\n    </tr>\n    <tr>\n      <th>2</th>\n      <td>0.911892</td>\n      <td>0.479615</td>\n      <td>0.0</td>\n    </tr>\n    <tr>\n      <th>3</th>\n      <td>0.912868</td>\n      <td>0.476005</td>\n      <td>0.0</td>\n    </tr>\n    <tr>\n      <th>4</th>\n      <td>0.911927</td>\n      <td>0.476571</td>\n      <td>0.0</td>\n    </tr>\n  </tbody>\n</table>\n</div>",
                        "text/plain": "   latitude  longitude  timestamp\n0  0.686746   0.502595        0.0\n1  0.746756   0.339244        0.0\n2  0.911892   0.479615        0.0\n3  0.912868   0.476005        0.0\n4  0.911927   0.476571        0.0"
                    },
                    "execution_count": 4,
                    "metadata": {},
                    "output_type": "execute_result"
                }
            ],
            "source": "bounds = preproc.get_bounds(dataset_f)\n\ndataset_f = preproc.preprocess(dataset_f, bounds)\ndataset_f.head()"
        },
        {
            "cell_type": "code",
            "execution_count": 5,
            "id": "fee66ca3",
            "metadata": {
                "trusted": true
            },
            "outputs": [
                {
                    "data": {
                        "text/plain": "{'latitude': {'max': -11.0415, 'min': -16.7822},\n 'longitude': {'max': 137.0908, 'min': 128.614},\n 'timestamp': {'max': 1569886800.0, 'min': 1564646220.0}}"
                    },
                    "execution_count": 5,
                    "metadata": {},
                    "output_type": "execute_result"
                }
            ],
            "source": "bounds"
        },
        {
            "cell_type": "markdown",
            "id": "12cdc4b2",
            "metadata": {},
            "source": "## Arrange the dataset into sequences"
        },
        {
            "cell_type": "code",
            "execution_count": 6,
            "id": "3d800c35",
            "metadata": {
                "trusted": true
            },
            "outputs": [
                {
                    "name": "stdout",
                    "output_type": "stream",
                    "text": "sequence_x.shape=(807, 64, 3), sequence_y.shape=(807, 3)\n"
                }
            ],
            "source": "dset_x, dset_y = preproc.xy_split(dataset_f)\nsequences = preproc.sequencify(dset_x, dset_y)"
        },
        {
            "cell_type": "code",
            "execution_count": 7,
            "id": "c8f87320",
            "metadata": {
                "trusted": true
            },
            "outputs": [
                {
                    "name": "stdout",
                    "output_type": "stream",
                    "text": "train.shape=(484, 65, 3), valid.shape=(161, 65, 3), test.shape=(162, 65, 3)\n"
                }
            ],
            "source": "train, t2 = train_test_split(sequences, shuffle=False, test_size=(TEST_SIZE+VALID_SIZE))\nvalid, test = train_test_split(t2, shuffle=False, test_size =TEST_SIZE / (TEST_SIZE+VALID_SIZE))\n\nprint(f'{train.shape=}, {valid.shape=}, {test.shape=}')"
        },
        {
            "cell_type": "markdown",
            "id": "5af01ac6",
            "metadata": {},
            "source": "## Write the preprocessed data to csv"
        },
        {
            "cell_type": "code",
            "execution_count": 8,
            "id": "aa1a4d5d",
            "metadata": {
                "trusted": true
            },
            "outputs": [],
            "source": "root_dir = 'dataset/reduced_preprocessed'\nos.makedirs(root_dir, exist_ok=True)\n\n# training data\ntrain_path = os.path.join(root_dir, 'train')\nnp.save(train_path, train)\n\n# validation data\nvalid_path = os.path.join(root_dir, 'valid')\nnp.save(valid_path, valid)\n\n# test data\ntest_path = os.path.join(root_dir, 'test')\nnp.save(test_path, test)\n\n# bounds\nbounds_path = os.path.join(root_dir, 'bounds.json')\nwith open(bounds_path, mode='w') as file:\n    json.dump(bounds, file)"
        }
    ],
    "metadata": {
        "kernelspec": {
            "display_name": "Python 3 (ipykernel)",
            "language": "python",
            "name": "python3"
        },
        "language_info": {
            "codemirror_mode": {
                "name": "ipython",
                "version": 3
            },
            "file_extension": ".py",
            "mimetype": "text/x-python",
            "name": "python",
            "nbconvert_exporter": "python",
            "pygments_lexer": "ipython3",
            "version": "3.10.12"
        }
    },
    "nbformat": 4,
    "nbformat_minor": 5
}