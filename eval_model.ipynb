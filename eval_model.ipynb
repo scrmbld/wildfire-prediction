{
    "cells": [
        {
            "cell_type": "markdown",
            "id": "50ef0477",
            "metadata": {},
            "source": "# Graphing model predictions against actual values"
        },
        {
            "cell_type": "code",
            "execution_count": null,
            "id": "4e1ea988",
            "metadata": {
                "trusted": true
            },
            "outputs": [],
            "source": "import torch\nimport os\nimport json\nimport math\n\nimport numpy as np\nimport pandas as pd\n\nimport preproc"
        },
        {
            "cell_type": "code",
            "execution_count": null,
            "id": "d17c2d51",
            "metadata": {
                "trusted": true
            },
            "outputs": [],
            "source": "device = torch.device('cuda' if torch.cuda.is_available() else 'cpu')"
        },
        {
            "cell_type": "markdown",
            "id": "0317fb8a",
            "metadata": {},
            "source": "## read the dataset"
        },
        {
            "cell_type": "code",
            "execution_count": null,
            "id": "5a1b65e6",
            "metadata": {
                "trusted": true
            },
            "outputs": [],
            "source": "data_dir = 'dataset/preprocessed'\ntrain = np.load(os.path.join(data_dir, 'train.npy'))\nvalid = np.load(os.path.join(data_dir, 'valid.npy'))\ntest = np.load(os.path.join(data_dir, 'test.npy'))\n# load the bounds as well\nbounds_path = os.path.join(data_dir, 'bounds.json')\nbounds = {}\nwith open(bounds_path)as file:\n    bounds = json.load(file)\n\ncols = list(bounds.keys())\n\n# split into inputs and labels\nx_train = torch.Tensor(train[:,:preproc.WINDOW_SIZE,:])\ny_train = torch.Tensor(train[:,preproc.WINDOW_SIZE,:])\n\nx_valid = torch.Tensor(valid[:,:preproc.WINDOW_SIZE,:])\ny_valid = torch.Tensor(valid[:,preproc.WINDOW_SIZE,:])\n\nx_test = torch.Tensor(test[:,:preproc.WINDOW_SIZE,:])\ny_test = torch.Tensor(test[:,preproc.WINDOW_SIZE,:])"
        },
        {
            "cell_type": "markdown",
            "id": "5bebd6fc",
            "metadata": {},
            "source": "## Load the model"
        },
        {
            "cell_type": "code",
            "execution_count": null,
            "id": "eb866132",
            "metadata": {
                "trusted": true
            },
            "outputs": [],
            "source": "from lstm_model import FirePredictor\n\nhidden_dim = 1024\nn_layers = 4\nmodel = FirePredictor(train.shape[-1], preproc.WINDOW_SIZE, hidden_dim, n_layers)\nmodel.eval()\nmodel.from_json('models/single_lstm.json')"
        },
        {
            "cell_type": "markdown",
            "id": "1473e020",
            "metadata": {},
            "source": "## Run the model"
        },
        {
            "cell_type": "code",
            "execution_count": null,
            "id": "8af08ea5",
            "metadata": {
                "trusted": true
            },
            "outputs": [],
            "source": "with torch.no_grad():\n    p_valid = model(x_valid.to(device))\n    p_train = model(x_train[0:x_valid.shape[0]].to(device))"
        },
        {
            "cell_type": "markdown",
            "id": "d00ad013",
            "metadata": {},
            "source": "## un-preprocess the results"
        },
        {
            "cell_type": "code",
            "execution_count": null,
            "id": "90e52586",
            "metadata": {
                "trusted": true
            },
            "outputs": [],
            "source": "train_p_frame = pd.DataFrame(p_train.cpu().detach().numpy(), columns=cols)\ntrain_p_frame = preproc.unprocess(train_p_frame, bounds)\ndisplay(train_p_frame.shape)\ndisplay(train_p_frame.head())\n\ntrain_y_frame = pd.DataFrame(y_train.cpu().detach().numpy(), columns=cols)\ntrain_y_frame = preproc.unprocess(train_y_frame, bounds)\ndisplay(train_y_frame.shape)\ndisplay(train_y_frame.head())"
        },
        {
            "cell_type": "code",
            "execution_count": null,
            "id": "257d14a9",
            "metadata": {
                "trusted": true
            },
            "outputs": [],
            "source": "valid_p_frame = pd.DataFrame(p_valid.cpu().detach().numpy(), columns=cols)\nvalid_p_frame = preproc.unprocess(valid_p_frame, bounds)\ndisplay(valid_p_frame.shape)\ndisplay(valid_p_frame.head())\n\nvalid_y_frame = pd.DataFrame(y_valid.detach().numpy(), columns=cols)\nvalid_y_frame = preproc.unprocess(valid_y_frame, bounds)\ndisplay(valid_y_frame.shape)\ndisplay(valid_y_frame.head())"
        },
        {
            "cell_type": "code",
            "execution_count": null,
            "id": "bc113ee9",
            "metadata": {
                "trusted": true
            },
            "outputs": [],
            "source": "display(valid_y_frame.std(axis=0))\ndisplay(valid_p_frame.std(axis=0))"
        },
        {
            "cell_type": "markdown",
            "id": "f12b4fb7",
            "metadata": {},
            "source": "# Make the graph"
        },
        {
            "cell_type": "code",
            "execution_count": null,
            "id": "f054c5d7",
            "metadata": {
                "trusted": true
            },
            "outputs": [],
            "source": "import folium\nimport geojson\nfrom datetime import datetime"
        },
        {
            "cell_type": "markdown",
            "id": "b6933041",
            "metadata": {},
            "source": "Convert data to GeoJSON"
        },
        {
            "cell_type": "code",
            "execution_count": null,
            "id": "05b01c34",
            "metadata": {
                "trusted": true
            },
            "outputs": [],
            "source": "def get_points(df):\n    points = list(zip(df['longitude'], df['latitude']))\n    return geojson.MultiPoint(points)\n\ntrain_y_markers = get_points(train_y_frame)\ntrain_p_markers = get_points(train_p_frame)\nvalid_y_markers = get_points(valid_y_frame)\nvalid_p_markers = get_points(valid_p_frame)"
        },
        {
            "cell_type": "code",
            "execution_count": null,
            "id": "4be001c9",
            "metadata": {
                "trusted": true
            },
            "outputs": [],
            "source": "m = folium.Map(\n    [-30.0, 140.0],\n    zoom_start=4,\n    tiles='OpenTopoMap'\n)\n\n# create groups so that we can control what stuff is visible\ntrain_y_group = folium.FeatureGroup(name=\"Training Ground Truth\")\nm.add_child(train_y_group)\ntrain_p_group = folium.FeatureGroup(name=\"Training Predictions\")\nm.add_child(train_p_group)\n\nvalid_y_group = folium.FeatureGroup(name=\"Validation Ground Truth\")\nm.add_child(valid_y_group)\nvalid_p_group = folium.FeatureGroup(name=\"Validation Predictions\")\nm.add_child(valid_p_group)\n\n# add training y markers to the map\nfolium.GeoJson(\n    train_y_markers,\n    name=\"Fire Pixels\",\n    marker=folium.Circle(radius=100, fill_color = 'blue', fill_opacity=0.5, color=\"black\", weight=1),\n    style_function=lambda x: {\n        \"fillColor\": 'blue',\n        'radius': 10000\n    },\n    highlight_function=lambda x: {\"fillOpacity\": 0.8}\n).add_to(train_y_group)\n\n# add training predicted markers to the map\nfolium.GeoJson(\n    train_p_markers,\n    name=\"Predicted Pixels\",\n    marker=folium.Circle(radius=100, fill_color = 'green', fill_opacity=0.5, color=\"black\", weight=1),\n    style_function=lambda x: {\n        \"fillColor\": 'green',\n        'radius': 10000\n    },\n    highlight_function=lambda x: {\"fillOpacity\": 0.8}\n).add_to(train_p_group)\n\n# add validation y markers to the map\nfolium.GeoJson(\n    valid_y_markers,\n    name=\"Fire Pixels\",\n    marker=folium.Circle(radius=100, fill_color = 'red', fill_opacity=0.5, color=\"black\", weight=1),\n    style_function=lambda x: {\n        \"fillColor\": 'red',\n        'radius': 10000\n    },\n    highlight_function=lambda x: {\"fillOpacity\": 0.8}\n).add_to(valid_y_group)\n\n# add validation predicted markers to the map\nfolium.GeoJson(\n    valid_p_markers,\n    name=\"Predicted Pixels\",\n    marker=folium.Circle(radius=100, fill_color = 'orange', fill_opacity=0.5, color=\"black\", weight=1),\n    style_function=lambda x: {\n        \"fillColor\": 'orange',\n        'radius': 10000\n    },\n    highlight_function=lambda x: {\"fillOpacity\": 0.8}\n).add_to(valid_p_group)\n\nfolium.LayerControl(collapsed=False).add_to(m)\n\nm"
        },
        {
            "cell_type": "code",
            "execution_count": null,
            "id": "6279c706",
            "metadata": {
                "trusted": true
            },
            "outputs": [],
            "source": "m.save('graphs/model_comparison.html')"
        },
        {
            "cell_type": "markdown",
            "id": "93f5c514",
            "metadata": {},
            "source": "## Compute stats for the predictions\n\nMean spatial & temporal distance: Compute average spatial & temporal distances between predictions and ground truth"
        },
        {
            "cell_type": "code",
            "execution_count": null,
            "id": "1f23cef6",
            "metadata": {
                "trusted": true
            },
            "outputs": [],
            "source": "def geo_dist(lat1, lon1, lat2, lon2):\n    # compute distance in km between 2 points\n    # https://andrew.hedges.name/experiments/haversine/\n    R = 6373 # approximate radius of the earth in kilometers\n\n    # get lat an lon diff in radians\n    dlon = math.radians(lon2 - lon1)\n    dlat = math.radians(lat2 - lat1)\n\n    a = (math.sin(dlat/2))**2 + math.cos(math.radians(lat1)) * math.cos(math.radians(lat2)) * (math.sin(dlon/2)**2)\n    c = 2 * math.atan2(math.sqrt(a), math.sqrt(1-a))\n    d = R * c\n    return d\n\n# test the formula\nlat1, lon1 = 38.898556, -77.037852\nlat2, lon2 = 38.897147, -77.043934\n\n# this should be 0.549\ngeo_dist(lat1, lon1, lat2, lon2)"
        },
        {
            "cell_type": "code",
            "execution_count": null,
            "id": "aa9930f2",
            "metadata": {
                "trusted": true
            },
            "outputs": [],
            "source": "# average time difference\nd_times = (valid_y_frame['timestamp'] - valid_p_frame['timestamp']).abs()\n\n# average distance\ndistances = []\nfor i,_ in valid_y_frame.iterrows():\n    lat1 = valid_y_frame.loc[i, 'latitude']\n    lon1 = valid_y_frame.loc[i, 'longitude']\n\n    lat2 = valid_p_frame.loc[i, 'latitude']\n    lon2 = valid_p_frame.loc[i, 'longitude']\n\n    distances.append(geo_dist(lat1, lon2, lat2, lon2))\n\ndistances = pd.Series(distances)\nprint(f'{d_times.mean()=}\\n{distances.mean()=}')"
        },
        {
            "cell_type": "code",
            "execution_count": null,
            "id": "95cfb713",
            "metadata": {
                "trusted": true
            },
            "outputs": [],
            "source": "# get the size of the geographical region that the dataset covers\nlat1 = bounds['latitude']['min']\nlat2 = bounds['latitude']['max']\n\nlon1 = bounds['longitude']['min']\nlon2 = bounds['longitude']['max']\n\ngeo_dist(lat1, lon1, lat2, lon2)"
        }
    ],
    "metadata": {
        "kernelspec": {
            "display_name": "Python 3 (ipykernel)",
            "language": "python",
            "name": "python3"
        },
        "language_info": {
            "codemirror_mode": {
                "name": "ipython",
                "version": 3
            },
            "file_extension": ".py",
            "mimetype": "text/x-python",
            "name": "python",
            "nbconvert_exporter": "python",
            "pygments_lexer": "ipython3",
            "version": "3.10.12"
        }
    },
    "nbformat": 4,
    "nbformat_minor": 5
}