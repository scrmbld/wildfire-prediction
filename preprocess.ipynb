{
 "cells": [
  {
   "cell_type": "code",
   "execution_count": 1,
   "id": "d62cd319",
   "metadata": {},
   "outputs": [],
   "source": [
    "import json\n",
    "import pandas as pd\n",
    "import numpy as np\n",
    "import os\n",
    "\n",
    "from sklearn.model_selection import train_test_split\n",
    "\n",
    "import preproc"
   ]
  },
  {
   "cell_type": "code",
   "execution_count": 2,
   "id": "11718599",
   "metadata": {},
   "outputs": [],
   "source": [
    "VALID_SIZE = 0.2\n",
    "TEST_SIZE = 0.2"
   ]
  },
  {
   "cell_type": "markdown",
   "id": "8f4f8708",
   "metadata": {},
   "source": [
    "## Load the original data"
   ]
  },
  {
   "cell_type": "code",
   "execution_count": 3,
   "id": "2b9f430e",
   "metadata": {},
   "outputs": [],
   "source": [
    "infile_path = 'dataset/modis_reduced/fire_archive_M6_96619.csv'\n",
    "dataset_f = pd.read_csv(infile_path)\n",
    "dataset_f.drop(['bright_t31', 'daynight', 'confidence', 'frp', 'brightness'], axis=1, inplace=True)"
   ]
  },
  {
   "cell_type": "markdown",
   "id": "4c070df7",
   "metadata": {},
   "source": [
    "## Preprocess the dataset"
   ]
  },
  {
   "cell_type": "code",
   "execution_count": 4,
   "id": "58f626e1",
   "metadata": {},
   "outputs": [
    {
     "data": {
      "text/html": [
       "<div>\n",
       "<style scoped>\n",
       "    .dataframe tbody tr th:only-of-type {\n",
       "        vertical-align: middle;\n",
       "    }\n",
       "\n",
       "    .dataframe tbody tr th {\n",
       "        vertical-align: top;\n",
       "    }\n",
       "\n",
       "    .dataframe thead th {\n",
       "        text-align: right;\n",
       "    }\n",
       "</style>\n",
       "<table border=\"1\" class=\"dataframe\">\n",
       "  <thead>\n",
       "    <tr style=\"text-align: right;\">\n",
       "      <th></th>\n",
       "      <th>latitude</th>\n",
       "      <th>longitude</th>\n",
       "      <th>timestamp</th>\n",
       "    </tr>\n",
       "  </thead>\n",
       "  <tbody>\n",
       "    <tr>\n",
       "      <th>0</th>\n",
       "      <td>0.686746</td>\n",
       "      <td>0.502595</td>\n",
       "      <td>0.0</td>\n",
       "    </tr>\n",
       "    <tr>\n",
       "      <th>1</th>\n",
       "      <td>0.746756</td>\n",
       "      <td>0.339244</td>\n",
       "      <td>0.0</td>\n",
       "    </tr>\n",
       "    <tr>\n",
       "      <th>2</th>\n",
       "      <td>0.911892</td>\n",
       "      <td>0.479615</td>\n",
       "      <td>0.0</td>\n",
       "    </tr>\n",
       "    <tr>\n",
       "      <th>3</th>\n",
       "      <td>0.912868</td>\n",
       "      <td>0.476005</td>\n",
       "      <td>0.0</td>\n",
       "    </tr>\n",
       "    <tr>\n",
       "      <th>4</th>\n",
       "      <td>0.911927</td>\n",
       "      <td>0.476571</td>\n",
       "      <td>0.0</td>\n",
       "    </tr>\n",
       "  </tbody>\n",
       "</table>\n",
       "</div>"
      ],
      "text/plain": [
       "   latitude  longitude  timestamp\n",
       "0  0.686746   0.502595        0.0\n",
       "1  0.746756   0.339244        0.0\n",
       "2  0.911892   0.479615        0.0\n",
       "3  0.912868   0.476005        0.0\n",
       "4  0.911927   0.476571        0.0"
      ]
     },
     "execution_count": 4,
     "metadata": {},
     "output_type": "execute_result"
    }
   ],
   "source": [
    "bounds = preproc.get_bounds(dataset_f)\n",
    "\n",
    "dataset_f = preproc.preprocess(dataset_f, bounds)\n",
    "dataset_f.head()"
   ]
  },
  {
   "cell_type": "code",
   "execution_count": 5,
   "id": "fee66ca3",
   "metadata": {},
   "outputs": [
    {
     "data": {
      "text/plain": [
       "{'latitude': {'max': -11.0415, 'min': -16.7822},\n",
       " 'longitude': {'max': 137.0908, 'min': 128.614},\n",
       " 'timestamp': {'max': 1569886800.0, 'min': 1564646220.0}}"
      ]
     },
     "execution_count": 5,
     "metadata": {},
     "output_type": "execute_result"
    }
   ],
   "source": [
    "bounds"
   ]
  },
  {
   "cell_type": "markdown",
   "id": "12cdc4b2",
   "metadata": {},
   "source": [
    "## Arrange the dataset into sequences"
   ]
  },
  {
   "cell_type": "code",
   "execution_count": 6,
   "id": "3d800c35",
   "metadata": {},
   "outputs": [
    {
     "name": "stdout",
     "output_type": "stream",
     "text": [
      "sequence_x.shape=(1707, 32, 3), sequence_y.shape=(1707, 3)\n"
     ]
    }
   ],
   "source": [
    "dset_x, dset_y = preproc.xy_split(dataset_f)\n",
    "sequences = preproc.sequencify(dset_x, dset_y)"
   ]
  },
  {
   "cell_type": "code",
   "execution_count": 7,
   "id": "c8f87320",
   "metadata": {},
   "outputs": [
    {
     "name": "stdout",
     "output_type": "stream",
     "text": [
      "train.shape=(1024, 33, 3), valid.shape=(341, 33, 3), test.shape=(342, 33, 3)\n"
     ]
    }
   ],
   "source": [
    "train, t2 = train_test_split(sequences, shuffle=False, test_size=(TEST_SIZE+VALID_SIZE))\n",
    "valid, test = train_test_split(t2, shuffle=False, test_size =TEST_SIZE / (TEST_SIZE+VALID_SIZE))\n",
    "\n",
    "print(f'{train.shape=}, {valid.shape=}, {test.shape=}')"
   ]
  },
  {
   "cell_type": "markdown",
   "id": "5af01ac6",
   "metadata": {},
   "source": [
    "## Write the preprocessed data to csv"
   ]
  },
  {
   "cell_type": "code",
   "execution_count": 8,
   "id": "aa1a4d5d",
   "metadata": {},
   "outputs": [],
   "source": [
    "root_dir = 'dataset/reduced_preprocessed'\n",
    "os.makedirs(root_dir, exist_ok=True)\n",
    "\n",
    "# training data\n",
    "train_path = os.path.join(root_dir, 'train')\n",
    "np.save(train_path, train)\n",
    "\n",
    "# validation data\n",
    "valid_path = os.path.join(root_dir, 'valid')\n",
    "np.save(valid_path, valid)\n",
    "\n",
    "# test data\n",
    "test_path = os.path.join(root_dir, 'test')\n",
    "np.save(test_path, test)\n",
    "\n",
    "# bounds\n",
    "bounds_path = os.path.join(root_dir, 'bounds.json')\n",
    "with open(bounds_path, mode='w') as file:\n",
    "    json.dump(bounds, file)"
   ]
  }
 ],
 "metadata": {
  "kernelspec": {
   "display_name": "Python 3 (ipykernel)",
   "language": "python",
   "name": "python3"
  },
  "language_info": {
   "codemirror_mode": {
    "name": "ipython",
    "version": 3
   },
   "file_extension": ".py",
   "mimetype": "text/x-python",
   "name": "python",
   "nbconvert_exporter": "python",
   "pygments_lexer": "ipython3",
   "version": "3.10.12"
  }
 },
 "nbformat": 4,
 "nbformat_minor": 5
}
